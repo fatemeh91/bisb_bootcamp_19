{
 "cells": [
  {
   "cell_type": "markdown",
   "metadata": {
    "colab_type": "text",
    "id": "l1NWd9fD84UR"
   },
   "source": [
    "# The most basic Commands"
   ]
  },
  {
   "cell_type": "markdown",
   "metadata": {
    "colab_type": "text",
    "id": "hjdZD3C184UU"
   },
   "source": [
    "## Print the working directory"
   ]
  },
  {
   "cell_type": "code",
   "execution_count": 1,
   "metadata": {
    "colab": {
     "autoexec": {
      "startup": false,
      "wait_interval": 0
     }
    },
    "colab_type": "code",
    "id": "M4cOl-QW84UW"
   },
   "outputs": [
    {
     "name": "stdout",
     "output_type": "stream",
     "text": [
      "/Users/jlzhou/Documents/bisb_bootcamp_19/unix_tutorial\n"
     ]
    }
   ],
   "source": [
    "pwd"
   ]
  },
  {
   "cell_type": "markdown",
   "metadata": {
    "colab_type": "text",
    "id": "M4zUZBpy84UZ"
   },
   "source": [
    "## List the files in the working directory"
   ]
  },
  {
   "cell_type": "code",
   "execution_count": 2,
   "metadata": {
    "colab": {
     "autoexec": {
      "startup": false,
      "wait_interval": 0
     }
    },
    "colab_type": "code",
    "id": "bVcqO0vU84UZ"
   },
   "outputs": [
    {
     "name": "stdout",
     "output_type": "stream",
     "text": [
      "Bootcamp-bash-tutorial.ipynb  chmod_permissions.png\n"
     ]
    }
   ],
   "source": [
    "ls"
   ]
  },
  {
   "cell_type": "markdown",
   "metadata": {
    "colab_type": "text",
    "id": "AAChAGsG84Ue"
   },
   "source": [
    "### Thats not that many files!  Let's make a new one"
   ]
  },
  {
   "cell_type": "markdown",
   "metadata": {
    "colab_type": "text",
    "id": "V3BSDqbx84Uf"
   },
   "source": [
    "## Print a message"
   ]
  },
  {
   "cell_type": "code",
   "execution_count": 3,
   "metadata": {
    "colab": {
     "autoexec": {
      "startup": false,
      "wait_interval": 0
     }
    },
    "colab_type": "code",
    "id": "7Q3LVElX84Ug"
   },
   "outputs": [
    {
     "name": "stdout",
     "output_type": "stream",
     "text": [
      "Some Message\n"
     ]
    }
   ],
   "source": [
    "echo \"Some Message\""
   ]
  },
  {
   "cell_type": "markdown",
   "metadata": {
    "colab_type": "text",
    "id": "RNAUWTX884Ui"
   },
   "source": [
    "## Write output to a file - this is called \"piping\""
   ]
  },
  {
   "cell_type": "code",
   "execution_count": 4,
   "metadata": {
    "colab": {
     "autoexec": {
      "startup": false,
      "wait_interval": 0
     }
    },
    "colab_type": "code",
    "id": "Xg8kRZaT84Uj"
   },
   "outputs": [],
   "source": [
    "echo \"Some Message\" > myNewFile.txt"
   ]
  },
  {
   "cell_type": "markdown",
   "metadata": {
    "colab_type": "text",
    "id": "2kBTRZRY84Ul"
   },
   "source": [
    "### Lets see those files again.  But lets also look at some details about the files this time:"
   ]
  },
  {
   "cell_type": "code",
   "execution_count": 5,
   "metadata": {
    "colab": {
     "autoexec": {
      "startup": false,
      "wait_interval": 0
     }
    },
    "colab_type": "code",
    "id": "ZUrpyD3o84Um"
   },
   "outputs": [
    {
     "name": "stdout",
     "output_type": "stream",
     "text": [
      "total 112\n",
      "-rw-r--r--@ 1 jlzhou  staff    40K Sep 16 11:45 Bootcamp-bash-tutorial.ipynb\n",
      "-rw-r--r--@ 1 jlzhou  staff   6.1K Sep 12  2018 chmod_permissions.png\n",
      "-rw-r--r--  1 jlzhou  staff    13B Sep 16 13:01 myNewFile.txt\n"
     ]
    }
   ],
   "source": [
    "ls -l"
   ]
  },
  {
   "cell_type": "markdown",
   "metadata": {
    "colab_type": "text",
    "id": "aS5x4zb484Uo"
   },
   "source": [
    "## Make a new directory"
   ]
  },
  {
   "cell_type": "code",
   "execution_count": 6,
   "metadata": {
    "colab": {
     "autoexec": {
      "startup": false,
      "wait_interval": 0
     }
    },
    "colab_type": "code",
    "id": "xeT0E8YC84Up"
   },
   "outputs": [],
   "source": [
    "mkdir myDirectory"
   ]
  },
  {
   "cell_type": "code",
   "execution_count": 7,
   "metadata": {
    "colab": {
     "autoexec": {
      "startup": false,
      "wait_interval": 0
     }
    },
    "colab_type": "code",
    "id": "RFSCQq6T84Ur"
   },
   "outputs": [
    {
     "name": "stdout",
     "output_type": "stream",
     "text": [
      "total 112\n",
      "-rw-r--r--@ 1 jlzhou  staff    41K Sep 16 13:02 Bootcamp-bash-tutorial.ipynb\n",
      "-rw-r--r--@ 1 jlzhou  staff   6.1K Sep 12  2018 chmod_permissions.png\n",
      "drwxr-xr-x  2 jlzhou  staff    64B Sep 16 13:02 \u001b[1m\u001b[34mmyDirectory\u001b[39;49m\u001b[0m/\n",
      "-rw-r--r--  1 jlzhou  staff    13B Sep 16 13:01 myNewFile.txt\n"
     ]
    }
   ],
   "source": [
    "ls -l"
   ]
  },
  {
   "cell_type": "markdown",
   "metadata": {
    "colab_type": "text",
    "id": "5Q-Q1jKB84Uv"
   },
   "source": [
    "## Change the current directory"
   ]
  },
  {
   "cell_type": "code",
   "execution_count": 8,
   "metadata": {
    "colab": {
     "autoexec": {
      "startup": false,
      "wait_interval": 0
     }
    },
    "colab_type": "code",
    "id": "O0aX7dII84Uw"
   },
   "outputs": [],
   "source": [
    "cd myDirectory"
   ]
  },
  {
   "cell_type": "code",
   "execution_count": 9,
   "metadata": {
    "colab": {
     "autoexec": {
      "startup": false,
      "wait_interval": 0
     }
    },
    "colab_type": "code",
    "id": "90r2xSBS84Uy"
   },
   "outputs": [],
   "source": [
    "ls -l"
   ]
  },
  {
   "cell_type": "markdown",
   "metadata": {
    "colab_type": "text",
    "id": "oiyAQMSz84U1"
   },
   "source": [
    "### is this really empty? Lets view hidden files too!"
   ]
  },
  {
   "cell_type": "code",
   "execution_count": 10,
   "metadata": {
    "colab": {
     "autoexec": {
      "startup": false,
      "wait_interval": 0
     }
    },
    "colab_type": "code",
    "id": "kt9RvvGH84U1"
   },
   "outputs": [
    {
     "name": "stdout",
     "output_type": "stream",
     "text": [
      "total 0\n",
      "drwxr-xr-x  2 jlzhou  staff    64B Sep 16 13:02 \u001b[1m\u001b[34m.\u001b[39;49m\u001b[0m/\n",
      "drwxr-xr-x  7 jlzhou  staff   224B Sep 16 13:02 \u001b[1m\u001b[34m..\u001b[39;49m\u001b[0m/\n"
     ]
    }
   ],
   "source": [
    "ls -la"
   ]
  },
  {
   "cell_type": "markdown",
   "metadata": {
    "colab_type": "text",
    "id": "K9GMRj0z84U4"
   },
   "source": [
    "### Thats so cool!\n",
    "Yes, it is.  Bash has built in links to folders.  `./` refers to the current directory. `../` refers to the parent directory."
   ]
  },
  {
   "cell_type": "markdown",
   "metadata": {
    "colab_type": "text",
    "id": "dK5TCmNJ84U4"
   },
   "source": [
    "### So lets check those out!"
   ]
  },
  {
   "cell_type": "code",
   "execution_count": 11,
   "metadata": {
    "colab": {
     "autoexec": {
      "startup": false,
      "wait_interval": 0
     }
    },
    "colab_type": "code",
    "id": "q5ZCclf784U5"
   },
   "outputs": [
    {
     "name": "stdout",
     "output_type": "stream",
     "text": [
      "total 0\n",
      "drwxr-xr-x  2 jlzhou  staff    64B Sep 16 13:02 \u001b[1m\u001b[34m.\u001b[39;49m\u001b[0m/\n",
      "drwxr-xr-x  7 jlzhou  staff   224B Sep 16 13:02 \u001b[1m\u001b[34m..\u001b[39;49m\u001b[0m/\n"
     ]
    }
   ],
   "source": [
    "ls -la ."
   ]
  },
  {
   "cell_type": "code",
   "execution_count": 12,
   "metadata": {
    "colab": {
     "autoexec": {
      "startup": false,
      "wait_interval": 0
     }
    },
    "colab_type": "code",
    "id": "nmxwxUXh84U8"
   },
   "outputs": [
    {
     "name": "stdout",
     "output_type": "stream",
     "text": [
      "total 112\n",
      "drwxr-xr-x  7 jlzhou  staff   224B Sep 16 13:02 \u001b[1m\u001b[34m.\u001b[39;49m\u001b[0m/\n",
      "drwxr-xr-x  6 jlzhou  staff   192B Sep 16 11:42 \u001b[1m\u001b[34m..\u001b[39;49m\u001b[0m/\n",
      "drwxr-xr-x  3 jlzhou  staff    96B Sep 12  2018 \u001b[1m\u001b[34m.ipynb_checkpoints\u001b[39;49m\u001b[0m/\n",
      "-rw-r--r--@ 1 jlzhou  staff    41K Sep 16 13:02 Bootcamp-bash-tutorial.ipynb\n",
      "-rw-r--r--@ 1 jlzhou  staff   6.1K Sep 12  2018 chmod_permissions.png\n",
      "drwxr-xr-x  2 jlzhou  staff    64B Sep 16 13:02 \u001b[1m\u001b[34mmyDirectory\u001b[39;49m\u001b[0m/\n",
      "-rw-r--r--  1 jlzhou  staff    13B Sep 16 13:01 myNewFile.txt\n"
     ]
    }
   ],
   "source": [
    "ls -la .."
   ]
  },
  {
   "cell_type": "markdown",
   "metadata": {
    "colab_type": "text",
    "id": "7u-kE2sP84U_"
   },
   "source": [
    "## Bash also has `~/` which is your home directory"
   ]
  },
  {
   "cell_type": "code",
   "execution_count": 14,
   "metadata": {
    "colab": {
     "autoexec": {
      "startup": false,
      "wait_interval": 0
     }
    },
    "colab_type": "code",
    "id": "44WiU-Pt84VB"
   },
   "outputs": [
    {
     "name": "stdout",
     "output_type": "stream",
     "text": [
      "\u001b[1m\u001b[34mApplications\u001b[39;49m\u001b[0m/\n",
      "\u001b[1m\u001b[34mCRSsim\u001b[39;49m\u001b[0m/\n",
      "\u001b[1m\u001b[34mCreative Cloud Files\u001b[39;49m\u001b[0m/\n",
      "\u001b[1m\u001b[34mCytoscapeConfiguration\u001b[39;49m\u001b[0m/\n",
      "\u001b[1m\u001b[34mDesktop\u001b[39;49m\u001b[0m/\n",
      "\u001b[1m\u001b[34mDocuments\u001b[39;49m\u001b[0m/\n",
      "\u001b[1m\u001b[34mDownloads\u001b[39;49m\u001b[0m/\n",
      "\u001b[1m\u001b[34mLibrary\u001b[39;49m\u001b[0m/\n",
      "\u001b[1m\u001b[34mMovies\u001b[39;49m\u001b[0m/\n",
      "\u001b[1m\u001b[34mMusic\u001b[39;49m\u001b[0m/\n",
      "\u001b[1m\u001b[34mPictures\u001b[39;49m\u001b[0m/\n",
      "\u001b[1m\u001b[34mPublic\u001b[39;49m\u001b[0m/\n",
      "README.md\n",
      "\u001b[1m\u001b[34mRELICS\u001b[39;49m\u001b[0m/\n",
      "\u001b[1m\u001b[34mZotero\u001b[39;49m\u001b[0m/\n",
      "\u001b[1m\u001b[34manaconda3\u001b[39;49m\u001b[0m/\n",
      "grep_queries.sh\n",
      "\u001b[1m\u001b[34mjessicazhou96@gmail.com Creative Cloud Files\u001b[39;49m\u001b[0m/\n",
      "\u001b[1m\u001b[34mjlz014@eng.ucsd.edu Creative Cloud Files\u001b[39;49m\u001b[0m/\n",
      "\u001b[1m\u001b[34mnltk_data\u001b[39;49m\u001b[0m/\n",
      "\u001b[1m\u001b[34mscikit_learn_data\u001b[39;49m\u001b[0m/\n",
      "\u001b[1m\u001b[34mseaborn-data\u001b[39;49m\u001b[0m/\n",
      "\u001b[1m\u001b[34mstatsmodels_data\u001b[39;49m\u001b[0m/\n",
      "\u001b[1m\u001b[34mvimrc\u001b[39;49m\u001b[0m/\n"
     ]
    }
   ],
   "source": [
    "ls ~/"
   ]
  },
  {
   "cell_type": "markdown",
   "metadata": {
    "colab_type": "text",
    "id": "5ssxb2yT84VE"
   },
   "source": [
    "## Let's move `myNewFile.txt`, which you created earlier, to the current directory:"
   ]
  },
  {
   "cell_type": "code",
   "execution_count": 15,
   "metadata": {
    "colab": {
     "autoexec": {
      "startup": false,
      "wait_interval": 0
     }
    },
    "colab_type": "code",
    "id": "k8eO8oSe84VF"
   },
   "outputs": [
    {
     "name": "stdout",
     "output_type": "stream",
     "text": [
      "total 8\n",
      "drwxr-xr-x  3 jlzhou  staff    96B Sep 16 13:03 \u001b[1m\u001b[34m.\u001b[39;49m\u001b[0m/\n",
      "drwxr-xr-x  6 jlzhou  staff   192B Sep 16 13:03 \u001b[1m\u001b[34m..\u001b[39;49m\u001b[0m/\n",
      "-rw-r--r--  1 jlzhou  staff    13B Sep 16 13:01 myNewFile.txt\n"
     ]
    }
   ],
   "source": [
    "mv ../myNewFile.txt ./\n",
    "ls -la"
   ]
  },
  {
   "cell_type": "markdown",
   "metadata": {
    "colab_type": "text",
    "id": "JqihZcIh84VI"
   },
   "source": [
    "## Copying files:"
   ]
  },
  {
   "cell_type": "code",
   "execution_count": 16,
   "metadata": {
    "colab": {
     "autoexec": {
      "startup": false,
      "wait_interval": 0
     }
    },
    "colab_type": "code",
    "id": "gq16-x7u84VJ"
   },
   "outputs": [],
   "source": [
    "cp myNewFile.txt ../"
   ]
  },
  {
   "cell_type": "markdown",
   "metadata": {},
   "source": [
    "What did you just move, and where?"
   ]
  },
  {
   "cell_type": "markdown",
   "metadata": {
    "colab_type": "text",
    "id": "s7XYh-e484VM"
   },
   "source": [
    "## Deleting a file"
   ]
  },
  {
   "cell_type": "code",
   "execution_count": 17,
   "metadata": {
    "colab": {
     "autoexec": {
      "startup": false,
      "wait_interval": 0
     }
    },
    "colab_type": "code",
    "id": "cIC3lvdb84VM"
   },
   "outputs": [
    {
     "name": "stdout",
     "output_type": "stream",
     "text": [
      "Bootcamp-bash-tutorial.ipynb  \u001b[1m\u001b[34mmyDirectory\u001b[39;49m\u001b[0m/\n",
      "chmod_permissions.png         myNewFile.txt\n"
     ]
    }
   ],
   "source": [
    "ls ../"
   ]
  },
  {
   "cell_type": "code",
   "execution_count": 18,
   "metadata": {
    "colab": {
     "autoexec": {
      "startup": false,
      "wait_interval": 0
     }
    },
    "colab_type": "code",
    "id": "-BZj9Bsu84VO"
   },
   "outputs": [],
   "source": [
    "rm ../myNewFile.txt"
   ]
  },
  {
   "cell_type": "code",
   "execution_count": 19,
   "metadata": {
    "colab": {
     "autoexec": {
      "startup": false,
      "wait_interval": 0
     }
    },
    "colab_type": "code",
    "id": "NPLDNFLl84VS"
   },
   "outputs": [
    {
     "name": "stdout",
     "output_type": "stream",
     "text": [
      "Bootcamp-bash-tutorial.ipynb  \u001b[1m\u001b[34mmyDirectory\u001b[39;49m\u001b[0m/\n",
      "chmod_permissions.png\n"
     ]
    }
   ],
   "source": [
    "ls ../"
   ]
  },
  {
   "cell_type": "markdown",
   "metadata": {
    "colab_type": "text",
    "id": "9gvX8rHN84VT"
   },
   "source": [
    "## Viewing a file"
   ]
  },
  {
   "cell_type": "code",
   "execution_count": 20,
   "metadata": {
    "colab": {
     "autoexec": {
      "startup": false,
      "wait_interval": 0
     }
    },
    "colab_type": "code",
    "id": "c2ct-iwJ84VV"
   },
   "outputs": [
    {
     "name": "stdout",
     "output_type": "stream",
     "text": [
      "Some Message\n"
     ]
    }
   ],
   "source": [
    "cat myNewFile.txt"
   ]
  },
  {
   "cell_type": "markdown",
   "metadata": {
    "colab_type": "text",
    "id": "c_zKBjSP84VY"
   },
   "source": [
    "### Lets make a longer file for this example"
   ]
  },
  {
   "cell_type": "code",
   "execution_count": 21,
   "metadata": {
    "colab": {
     "autoexec": {
      "startup": false,
      "wait_interval": 0
     }
    },
    "colab_type": "code",
    "id": "cH560OdN84VZ"
   },
   "outputs": [],
   "source": [
    "printf \"a\\nb\\nc\\nd\\ne\\nf\\ng\\n\" > exampleView.txt"
   ]
  },
  {
   "cell_type": "code",
   "execution_count": 22,
   "metadata": {},
   "outputs": [
    {
     "name": "stdout",
     "output_type": "stream",
     "text": [
      "a\n",
      "b\n",
      "c\n",
      "d\n",
      "e\n",
      "f\n",
      "g\n"
     ]
    }
   ],
   "source": [
    "cat exampleView.txt"
   ]
  },
  {
   "cell_type": "code",
   "execution_count": 23,
   "metadata": {
    "colab": {
     "autoexec": {
      "startup": false,
      "wait_interval": 0
     }
    },
    "colab_type": "code",
    "id": "TwM6I0ma84Va"
   },
   "outputs": [
    {
     "name": "stdout",
     "output_type": "stream",
     "text": [
      "a\n",
      "b\n",
      "c\n",
      "d\n",
      "e\n"
     ]
    }
   ],
   "source": [
    "head -n 5 exampleView.txt"
   ]
  },
  {
   "cell_type": "code",
   "execution_count": 24,
   "metadata": {
    "colab": {
     "autoexec": {
      "startup": false,
      "wait_interval": 0
     }
    },
    "colab_type": "code",
    "id": "AWLMQTH084Vd"
   },
   "outputs": [
    {
     "name": "stdout",
     "output_type": "stream",
     "text": [
      "c\n",
      "d\n",
      "e\n",
      "f\n",
      "g\n"
     ]
    }
   ],
   "source": [
    "tail -n 5 exampleView.txt"
   ]
  },
  {
   "cell_type": "markdown",
   "metadata": {},
   "source": [
    "### You can also use the `less` and `more` commands to preview a file interactively. This won't work in the notebook, but try it in the shell sometime! "
   ]
  },
  {
   "cell_type": "markdown",
   "metadata": {
    "colab_type": "text",
    "id": "Fb1FoSv184Vf"
   },
   "source": [
    "## Counting lines in a file"
   ]
  },
  {
   "cell_type": "code",
   "execution_count": 25,
   "metadata": {
    "colab": {
     "autoexec": {
      "startup": false,
      "wait_interval": 0
     }
    },
    "colab_type": "code",
    "id": "M9-56dFp84Vg"
   },
   "outputs": [
    {
     "name": "stdout",
     "output_type": "stream",
     "text": [
      "       7 exampleView.txt\n"
     ]
    }
   ],
   "source": [
    "wc -l exampleView.txt"
   ]
  },
  {
   "cell_type": "markdown",
   "metadata": {
    "colab_type": "text",
    "id": "7zRnIX-M84Vj"
   },
   "source": [
    "#  More basic commands"
   ]
  },
  {
   "cell_type": "markdown",
   "metadata": {
    "colab_type": "text",
    "id": "Yhqi7bDb84Vj"
   },
   "source": [
    "## Creating a link"
   ]
  },
  {
   "cell_type": "markdown",
   "metadata": {
    "colab_type": "text",
    "id": "o2Rznvsa84Vl"
   },
   "source": [
    "There are two kinds of links: hard links, and soft links.  A hard link is a pointer to a file, a softlink is a pointer to a file name.\n",
    "\n",
    "\n",
    "Think of a softlink like a shortcut, and a hard link like a semi-copy of a file.\n",
    "\n",
    "To create a link, use `ln`. The default is a hard link; to create a soft link, use the `-s` flag."
   ]
  },
  {
   "cell_type": "code",
   "execution_count": 26,
   "metadata": {
    "colab": {
     "autoexec": {
      "startup": false,
      "wait_interval": 0
     }
    },
    "colab_type": "code",
    "id": "2iPtaaQc84Vl"
   },
   "outputs": [],
   "source": [
    "echo \"A new file\" > ../originalFile.txt"
   ]
  },
  {
   "cell_type": "code",
   "execution_count": 27,
   "metadata": {
    "colab": {
     "autoexec": {
      "startup": false,
      "wait_interval": 0
     }
    },
    "colab_type": "code",
    "id": "c4hfjlm184Vq"
   },
   "outputs": [
    {
     "name": "stdout",
     "output_type": "stream",
     "text": [
      "Bootcamp-bash-tutorial.ipynb  \u001b[1m\u001b[34mmyDirectory\u001b[39;49m\u001b[0m/\n",
      "chmod_permissions.png         originalFile.txt\n"
     ]
    }
   ],
   "source": [
    "ls ../"
   ]
  },
  {
   "cell_type": "code",
   "execution_count": 29,
   "metadata": {
    "colab": {
     "autoexec": {
      "startup": false,
      "wait_interval": 0
     }
    },
    "colab_type": "code",
    "id": "cb44wBwH84Vt"
   },
   "outputs": [
    {
     "name": "stdout",
     "output_type": "stream",
     "text": [
      "ln: myShortcut.txt: File exists\n"
     ]
    },
    {
     "ename": "",
     "evalue": "1",
     "output_type": "error",
     "traceback": []
    }
   ],
   "source": [
    "ln -s ../originalFile.txt myShortcut.txt"
   ]
  },
  {
   "cell_type": "code",
   "execution_count": 30,
   "metadata": {
    "colab": {
     "autoexec": {
      "startup": false,
      "wait_interval": 0
     }
    },
    "colab_type": "code",
    "id": "vw0TCX7d84Vy"
   },
   "outputs": [
    {
     "name": "stdout",
     "output_type": "stream",
     "text": [
      "exampleView.txt  myNewFile.txt    \u001b[1m\u001b[35mmyShortcut.txt\u001b[39;49m\u001b[0m@\n"
     ]
    }
   ],
   "source": [
    "ls"
   ]
  },
  {
   "cell_type": "code",
   "execution_count": 31,
   "metadata": {
    "colab": {
     "autoexec": {
      "startup": false,
      "wait_interval": 0
     }
    },
    "colab_type": "code",
    "id": "HoIZmMPh84V1"
   },
   "outputs": [],
   "source": [
    "ln ../originalFile.txt myHardlink.txt"
   ]
  },
  {
   "cell_type": "code",
   "execution_count": 32,
   "metadata": {
    "colab": {
     "autoexec": {
      "startup": false,
      "wait_interval": 0
     }
    },
    "colab_type": "code",
    "id": "SuYSlRkQ84V4"
   },
   "outputs": [
    {
     "name": "stdout",
     "output_type": "stream",
     "text": [
      "total 24\n",
      "-rw-r--r--  1 jlzhou  staff    14B Sep 16 13:04 exampleView.txt\n",
      "-rw-r--r--  2 jlzhou  staff    11B Sep 16 13:06 myHardlink.txt\n",
      "-rw-r--r--  1 jlzhou  staff    13B Sep 16 13:01 myNewFile.txt\n",
      "lrwxr-xr-x  1 jlzhou  staff    19B Sep 16 13:07 \u001b[1m\u001b[35mmyShortcut.txt\u001b[39;49m\u001b[0m@ -> ../originalFile.txt\n"
     ]
    }
   ],
   "source": [
    "ls -l"
   ]
  },
  {
   "cell_type": "markdown",
   "metadata": {
    "colab_type": "text",
    "id": "AMiUFeF884V7"
   },
   "source": [
    "### So what happens if we delete the original file?"
   ]
  },
  {
   "cell_type": "code",
   "execution_count": 33,
   "metadata": {
    "colab": {
     "autoexec": {
      "startup": false,
      "wait_interval": 0
     }
    },
    "colab_type": "code",
    "id": "GN3hSYz_84V7"
   },
   "outputs": [
    {
     "name": "stdout",
     "output_type": "stream",
     "text": [
      "total 24\n",
      "-rw-r--r--  1 jlzhou  staff    14B Sep 16 13:04 exampleView.txt\n",
      "-rw-r--r--  1 jlzhou  staff    11B Sep 16 13:06 myHardlink.txt\n",
      "-rw-r--r--  1 jlzhou  staff    13B Sep 16 13:01 myNewFile.txt\n",
      "lrwxr-xr-x  1 jlzhou  staff    19B Sep 16 13:07 \u001b[1m\u001b[35mmyShortcut.txt\u001b[39;49m\u001b[0m@ -> ../originalFile.txt\n"
     ]
    }
   ],
   "source": [
    "rm ../originalFile.txt\n",
    "ls -l"
   ]
  },
  {
   "cell_type": "markdown",
   "metadata": {
    "colab_type": "text",
    "id": "2d2XCYE584V_"
   },
   "source": [
    "### Oh no!  This shortcut is broken!"
   ]
  },
  {
   "cell_type": "code",
   "execution_count": 34,
   "metadata": {
    "colab": {
     "autoexec": {
      "startup": false,
      "wait_interval": 0
     }
    },
    "colab_type": "code",
    "id": "Nyaal9Uy84WA"
   },
   "outputs": [
    {
     "name": "stdout",
     "output_type": "stream",
     "text": [
      "cat: myShortcut.txt: No such file or directory\n"
     ]
    },
    {
     "ename": "",
     "evalue": "1",
     "output_type": "error",
     "traceback": []
    }
   ],
   "source": [
    "cat myShortcut.txt"
   ]
  },
  {
   "cell_type": "markdown",
   "metadata": {
    "colab_type": "text",
    "id": "kMoJKUNv84WC"
   },
   "source": [
    "### But this hardlink still works, since we pointed to the file, not the file name"
   ]
  },
  {
   "cell_type": "code",
   "execution_count": 35,
   "metadata": {
    "colab": {
     "autoexec": {
      "startup": false,
      "wait_interval": 0
     }
    },
    "colab_type": "code",
    "id": "oxXB3KqD84WD"
   },
   "outputs": [
    {
     "name": "stdout",
     "output_type": "stream",
     "text": [
      "A new file\n"
     ]
    }
   ],
   "source": [
    "cat myHardlink.txt"
   ]
  },
  {
   "cell_type": "markdown",
   "metadata": {},
   "source": [
    "Alright, let's remove those links now."
   ]
  },
  {
   "cell_type": "code",
   "execution_count": 36,
   "metadata": {
    "colab": {
     "autoexec": {
      "startup": false,
      "wait_interval": 0
     }
    },
    "colab_type": "code",
    "id": "amUWMWMI84WF"
   },
   "outputs": [],
   "source": [
    "rm myHardlink.txt\n",
    "rm myShortcut.txt"
   ]
  },
  {
   "cell_type": "markdown",
   "metadata": {
    "colab_type": "text",
    "id": "0Q_Tucwa84WG"
   },
   "source": [
    "## Creating a variable\n",
    "This can be useful for storing strings, such as long filepaths. "
   ]
  },
  {
   "cell_type": "code",
   "execution_count": 37,
   "metadata": {
    "colab": {
     "autoexec": {
      "startup": false,
      "wait_interval": 0
     }
    },
    "colab_type": "code",
    "id": "J41ZE10684WG"
   },
   "outputs": [],
   "source": [
    "MY_VAR=\"this is a variable string\""
   ]
  },
  {
   "cell_type": "code",
   "execution_count": 38,
   "metadata": {
    "colab": {
     "autoexec": {
      "startup": false,
      "wait_interval": 0
     }
    },
    "colab_type": "code",
    "id": "8AOunsCF84WJ"
   },
   "outputs": [
    {
     "name": "stdout",
     "output_type": "stream",
     "text": [
      "this is a variable string\n"
     ]
    }
   ],
   "source": [
    "echo $MY_VAR"
   ]
  },
  {
   "cell_type": "markdown",
   "metadata": {
    "colab_type": "text",
    "id": "IZ8z6xlE84WP"
   },
   "source": [
    "## Creating an alias\n",
    "Aliases are like shortcuts to longer Unix commands. This can be helpful for storing long commands that you use often. \n",
    "\n",
    "Let's create an alias for examining disk usage. \n",
    "\n",
    "The `-h` flag is an option specifying that memory should be displayed in human-readable format (e.g. Byte, Kilobyte, Megabyte, Gigabyte, Terabyte and Petabyte).\n",
    "\n",
    "We will pipe the output of this command to a `sort` command. The `-rn` flag sorts by numerical value in reverse order."
   ]
  },
  {
   "cell_type": "code",
   "execution_count": 39,
   "metadata": {
    "colab": {
     "autoexec": {
      "startup": false,
      "wait_interval": 0
     }
    },
    "colab_type": "code",
    "id": "-O9y9NYF84WP"
   },
   "outputs": [],
   "source": [
    "alias diskUse=\"du -h * | sort -rn\""
   ]
  },
  {
   "cell_type": "code",
   "execution_count": 40,
   "metadata": {
    "colab": {
     "autoexec": {
      "startup": false,
      "wait_interval": 0
     }
    },
    "colab_type": "code",
    "id": "sbkj4j1U84WV"
   },
   "outputs": [
    {
     "name": "stdout",
     "output_type": "stream",
     "text": [
      " 52K\tBootcamp-bash-tutorial.ipynb\n",
      "8.0K\tmyDirectory\n",
      "8.0K\tchmod_permissions.png\n"
     ]
    }
   ],
   "source": [
    "cd ../\n",
    "diskUse\n",
    "cd myDirectory"
   ]
  },
  {
   "cell_type": "markdown",
   "metadata": {
    "colab_type": "text",
    "id": "WnGTnHOW84Wb"
   },
   "source": [
    "## Creating a function\n",
    "\n",
    "What are `$1` and `$2`?  These are the arguments directly following what you type.  Think of these as quick, poor man's versions of command line arguments"
   ]
  },
  {
   "cell_type": "code",
   "execution_count": 41,
   "metadata": {
    "colab": {
     "autoexec": {
      "startup": false,
      "wait_interval": 0
     }
    },
    "colab_type": "code",
    "id": "k1OfG92z84Wc"
   },
   "outputs": [],
   "source": [
    "function lnhs { ln $1 $2; ln -s $1 ${2}.path; }"
   ]
  },
  {
   "cell_type": "markdown",
   "metadata": {},
   "source": [
    "What does this function do?"
   ]
  },
  {
   "cell_type": "code",
   "execution_count": 42,
   "metadata": {
    "colab": {
     "autoexec": {
      "startup": false,
      "wait_interval": 0
     }
    },
    "colab_type": "code",
    "id": "qSEE9SyC84We"
   },
   "outputs": [
    {
     "name": "stdout",
     "output_type": "stream",
     "text": [
      "total 24\n",
      "-rw-r--r--  1 jlzhou  staff    14B Sep 16 13:04 exampleView.txt\n",
      "-rw-r--r--  2 jlzhou  staff     5B Sep 16 13:11 myLinks.txt\n",
      "lrwxr-xr-x  1 jlzhou  staff    11B Sep 16 13:11 \u001b[1m\u001b[35mmyLinks.txt.path\u001b[39;49m\u001b[0m@ -> ../blah.txt\n",
      "-rw-r--r--  1 jlzhou  staff    13B Sep 16 13:01 myNewFile.txt\n"
     ]
    }
   ],
   "source": [
    "echo \"blah\" > ../blah.txt\n",
    "lnhs ../blah.txt myLinks.txt\n",
    "ls -l"
   ]
  },
  {
   "cell_type": "markdown",
   "metadata": {
    "colab_type": "text",
    "id": "rRV8zn9W84Wg"
   },
   "source": [
    "## Check if something is in your path and where it is"
   ]
  },
  {
   "cell_type": "markdown",
   "metadata": {
    "colab_type": "text",
    "id": "0g6HVF8j84Wh"
   },
   "source": [
    "Yup!"
   ]
  },
  {
   "cell_type": "code",
   "execution_count": 43,
   "metadata": {
    "colab": {
     "autoexec": {
      "startup": false,
      "wait_interval": 0
     }
    },
    "colab_type": "code",
    "id": "hHU-ZqQU84Wh"
   },
   "outputs": [
    {
     "name": "stdout",
     "output_type": "stream",
     "text": [
      "/Users/jlzhou/anaconda3/bin/python\n"
     ]
    }
   ],
   "source": [
    "which python"
   ]
  },
  {
   "cell_type": "markdown",
   "metadata": {
    "colab_type": "text",
    "id": "aaDiJRSE84Wk"
   },
   "source": [
    "Nope!"
   ]
  },
  {
   "cell_type": "code",
   "execution_count": 44,
   "metadata": {
    "colab": {
     "autoexec": {
      "startup": false,
      "wait_interval": 0
     }
    },
    "colab_type": "code",
    "id": "cpvRE6xQ84Wl"
   },
   "outputs": [
    {
     "ename": "",
     "evalue": "1",
     "output_type": "error",
     "traceback": []
    }
   ],
   "source": [
    "which matlab"
   ]
  },
  {
   "cell_type": "markdown",
   "metadata": {
    "colab_type": "text",
    "id": "aaESN7Eo84Wo"
   },
   "source": [
    "## Download a file\n",
    "\n",
    "`wget` is a very useful command for downloading large files the web. Let's practice downloading results from a study by [Gasperini et al. 2019](https://www.ncbi.nlm.nih.gov/geo/query/acc.cgi?acc=GSE120861).\n",
    "\n",
    "Under Supplementary Files, right click on the (ftp) link for GSE120861_all_deg_results.at_scale.txt.gz, and click on Copy Link Address. Paste the link in the command below."
   ]
  },
  {
   "cell_type": "code",
   "execution_count": 45,
   "metadata": {
    "colab": {
     "autoexec": {
      "startup": false,
      "wait_interval": 0
     }
    },
    "colab_type": "code",
    "id": "uOfAP8Ww84Wp"
   },
   "outputs": [
    {
     "name": "stdout",
     "output_type": "stream",
     "text": [
      "--2019-09-16 13:13:50--  ftp://ftp.ncbi.nlm.nih.gov/geo/series/GSE120nnn/GSE120861/suppl/GSE120861_all_deg_results.pilot.txt.gz\n",
      "           => ‘GSE120861_all_deg_results.pilot.txt.gz’\n",
      "Resolving ftp.ncbi.nlm.nih.gov (ftp.ncbi.nlm.nih.gov)... 2607:f220:41e:250::11, 130.14.250.7\n",
      "Connecting to ftp.ncbi.nlm.nih.gov (ftp.ncbi.nlm.nih.gov)|2607:f220:41e:250::11|:21... connected.\n",
      "Logging in as anonymous ... Logged in!\n",
      "==> SYST ... done.    ==> PWD ... done.\n",
      "==> TYPE I ... done.  ==> CWD (1) /geo/series/GSE120nnn/GSE120861/suppl ... done.\n",
      "==> SIZE GSE120861_all_deg_results.pilot.txt.gz ... 18819923\n",
      "==> EPSV ... done.    ==> RETR GSE120861_all_deg_results.pilot.txt.gz ... done.\n",
      "Length: 18819923 (18M) (unauthoritative)\n",
      "\n",
      "GSE120861_all_deg_r 100%[===================>]  17.95M  2.26MB/s    in 7.1s    \n",
      "\n",
      "2019-09-16 13:13:59 (2.52 MB/s) - ‘GSE120861_all_deg_results.pilot.txt.gz’ saved [18819923]\n",
      "\n"
     ]
    }
   ],
   "source": [
    "wget ftp://ftp.ncbi.nlm.nih.gov/geo/series/GSE120nnn/GSE120861/suppl/GSE120861_all_deg_results.pilot.txt.gz"
   ]
  },
  {
   "cell_type": "code",
   "execution_count": 46,
   "metadata": {},
   "outputs": [
    {
     "name": "stdout",
     "output_type": "stream",
     "text": [
      "total 38312\n",
      "-rw-r--r--@ 1 jlzhou  staff    18M Sep 16 13:13 GSE120861_all_deg_results.pilot.txt.gz\n",
      "-rw-r--r--  1 jlzhou  staff    14B Sep 16 13:04 exampleView.txt\n",
      "-rw-r--r--  2 jlzhou  staff     5B Sep 16 13:11 myLinks.txt\n",
      "lrwxr-xr-x  1 jlzhou  staff    11B Sep 16 13:11 \u001b[1m\u001b[35mmyLinks.txt.path\u001b[39;49m\u001b[0m@ -> ../blah.txt\n",
      "-rw-r--r--  1 jlzhou  staff    13B Sep 16 13:01 myNewFile.txt\n"
     ]
    }
   ],
   "source": [
    "ls -l"
   ]
  },
  {
   "cell_type": "markdown",
   "metadata": {},
   "source": [
    "#### Unzip the file."
   ]
  },
  {
   "cell_type": "code",
   "execution_count": 48,
   "metadata": {},
   "outputs": [],
   "source": [
    "gunzip GSE120861_all_deg_results.pilot.txt.gz"
   ]
  },
  {
   "cell_type": "markdown",
   "metadata": {},
   "source": [
    "#### Now let's preview the file!"
   ]
  },
  {
   "cell_type": "code",
   "execution_count": 51,
   "metadata": {},
   "outputs": [
    {
     "name": "stdout",
     "output_type": "stream",
     "text": [
      "pairs4merge\tbeta\tintercept\tfold_change.transcript_remaining\tpvalue.raw\tpvalue.empirical\tpvalue.empirical.adjusted\tENSG\tgene_short_name\tgRNA_group\tgRNAgroup.chr\tgRNAgroup.start\tgRNAgroup.stop\tchr.targetgene\tstart.targetgene\tstop.targetgene\tstrand.targetgene\tsite_type\toutlier_gene\n",
      "ACTB_TSS:ENSG00000008256\t-0.139320798791768\t-2.57171669753289\t0.869948905131766\t0.287617934536929\t0.264235098\t0.766910458142158\tENSG00000008256\tCYTH3\tACTB_TSS\tNTC\t5570339\t5570340\tchr7\t6312274\t6312275\t-\tTSS\tFALSE\n",
      "ACTB_TSS:ENSG00000011275\t0.00679442257689186\t-0.353261320947317\t1.00681755703138\t0.875776802284208\tnot_applicable\tnot_applicable\tENSG00000011275\tRNF216\tACTB_TSS\tNTC\t5570339\t5570340\tchr7\t5821369\t5821370\t-\tTSS\tFALSE\n",
      "ACTB_TSS:ENSG00000075618\t0.0883838024228721\t1.26277845123173\t1.09240731015274\t9.54008858531452e-05\tnot_applicable\tnot_applicable\tENSG00000075618\tFSCN1\tACTB_TSS\tNTC\t5570339\t5570340\tchr7\t5632454\t5632455\t+\tTSS\tFALSE\n",
      "ACTB_TSS:ENSG00000075624\t-0.374128474975344\t3.07820275903722\t0.687888529689763\t4.85869234279381e-106\t8.61e-06\t0.000222336692307692\tENSG00000075624\tACTB\tACTB_TSS\tNTC\t5570339\t5570340\tchr7\t5570339\t5570340\t-\tselfTSS\tFALSE\n",
      "ACTB_TSS:ENSG00000086232\t0.0162174542722515\t1.25230569739841\t1.01634967095615\t0.483649697409199\tnot_applicable\tnot_applicable\tENSG00000086232\tEIF2AK1\tACTB_TSS\tNTC\t5570339\t5570340\tchr7\t6098860\t6098861\t-\tTSS\tFALSE\n",
      "ACTB_TSS:ENSG00000106305\t0.0517867461701961\t0.21069578446593\t1.05315113005264\t0.123479419024888\tnot_applicable\tnot_applicable\tENSG00000106305\tAIMP2\tACTB_TSS\tNTC\t5570339\t5570340\tchr7\t6048876\t6048877\t+\tTSS\tFALSE\n",
      "ACTB_TSS:ENSG00000106346\t-0.0226458807813282\t-1.10760565674059\t0.977608612482265\t0.715187423945659\t0.685463109\t0.938847276348695\tENSG00000106346\tUSP42\tACTB_TSS\tNTC\t5570339\t5570340\tchr7\t6144515\t6144516\t+\tTSS\tFALSE\n",
      "ACTB_TSS:ENSG00000122512\t-0.0503676984254673\t-0.690633683725026\t0.950879723235309\t0.328206414848891\t0.301500788\t0.793924520590588\tENSG00000122512\tPMS2\tACTB_TSS\tNTC\t5570339\t5570340\tchr7\t6048649\t6048650\t-\tTSS\tFALSE\n",
      "ACTB_TSS:ENSG00000122674\t0.0661394424435246\t-0.0681766037247777\t1.06837568369556\t0.079121264335089\tnot_applicable\tnot_applicable\tENSG00000122674\tCCZ1\tACTB_TSS\tNTC\t5570339\t5570340\tchr7\t5938365\t5938366\t+\tTSS\tFALSE\n"
     ]
    }
   ],
   "source": [
    "head GSE120861_all_deg_results.pilot.txt"
   ]
  },
  {
   "cell_type": "markdown",
   "metadata": {
    "colab_type": "text",
    "id": "GFxq-bms84Wt"
   },
   "source": [
    "## Zip a file\n",
    "\n",
    "Let's zip that file back up."
   ]
  },
  {
   "cell_type": "code",
   "execution_count": 52,
   "metadata": {
    "colab": {
     "autoexec": {
      "startup": false,
      "wait_interval": 0
     }
    },
    "colab_type": "code",
    "id": "JCcXdLC384Wt"
   },
   "outputs": [],
   "source": [
    "gzip GSE120861_all_deg_results.pilot.txt"
   ]
  },
  {
   "cell_type": "code",
   "execution_count": 53,
   "metadata": {
    "colab": {
     "autoexec": {
      "startup": false,
      "wait_interval": 0
     }
    },
    "colab_type": "code",
    "id": "lNZNKgD584Wv"
   },
   "outputs": [
    {
     "name": "stdout",
     "output_type": "stream",
     "text": [
      "total 37528\n",
      "-rw-r--r--  1 jlzhou  staff    18M Sep 16 13:13 GSE120861_all_deg_results.pilot.txt.gz\n",
      "-rw-r--r--  1 jlzhou  staff    14B Sep 16 13:04 exampleView.txt\n",
      "-rw-r--r--  2 jlzhou  staff     5B Sep 16 13:11 myLinks.txt\n",
      "lrwxr-xr-x  1 jlzhou  staff    11B Sep 16 13:11 \u001b[1m\u001b[35mmyLinks.txt.path\u001b[39;49m\u001b[0m@ -> ../blah.txt\n",
      "-rw-r--r--  1 jlzhou  staff    13B Sep 16 13:01 myNewFile.txt\n"
     ]
    }
   ],
   "source": [
    "ls -l"
   ]
  },
  {
   "cell_type": "markdown",
   "metadata": {
    "colab_type": "text",
    "id": "YbUA6PbR84W2"
   },
   "source": [
    "## Edit permissions"
   ]
  },
  {
   "cell_type": "code",
   "execution_count": 54,
   "metadata": {
    "colab": {
     "autoexec": {
      "startup": false,
      "wait_interval": 0
     }
    },
    "colab_type": "code",
    "id": "naesIO-184W3"
   },
   "outputs": [
    {
     "name": "stdout",
     "output_type": "stream",
     "text": [
      "total 37528\n",
      "-rw-r--r--  1 jlzhou  staff    18M Sep 16 13:13 GSE120861_all_deg_results.pilot.txt.gz\n",
      "-rw-r--r--  1 jlzhou  staff    14B Sep 16 13:04 exampleView.txt\n",
      "-rwxrwxrwx  2 jlzhou  staff     5B Sep 16 13:11 \u001b[1m\u001b[32mmyLinks.txt\u001b[39;49m\u001b[0m*\n",
      "lrwxr-xr-x  1 jlzhou  staff    11B Sep 16 13:11 \u001b[1m\u001b[35mmyLinks.txt.path\u001b[39;49m\u001b[0m@ -> ../blah.txt\n",
      "-rw-r--r--  1 jlzhou  staff    13B Sep 16 13:01 myNewFile.txt\n"
     ]
    }
   ],
   "source": [
    "chmod 777 myLinks.txt\n",
    "ls -l"
   ]
  },
  {
   "cell_type": "markdown",
   "metadata": {
    "colab_type": "text",
    "id": "MBu47UuJ84W4"
   },
   "source": [
    "### Woah check out all those letters!  What do they mean?"
   ]
  },
  {
   "cell_type": "markdown",
   "metadata": {
    "colab_type": "text",
    "id": "8Mmv87Gd84W5"
   },
   "source": [
    "4: Read\n",
    "\n",
    "2: Write\n",
    "\n",
    "1: Execute\n",
    "\n",
    "The three numbers XXX following `chmod` are, from left to right: owner (u), group (g), everyone (o).\n",
    "\n",
    "<img src=\"./chmod_permissions.png\">\n",
    "\n",
    "So `chmod 777` sets all permission to everyone as read (r), write (w), execute (x).\n",
    "\n",
    "How would we set `myLinks.txt` permissions to:\n",
    "\n",
    "Group:  read, execute\n",
    "\n",
    "Everyone: read\n",
    "\n",
    "Owner: read, write, execute?"
   ]
  },
  {
   "cell_type": "code",
   "execution_count": 56,
   "metadata": {
    "colab": {
     "autoexec": {
      "startup": false,
      "wait_interval": 0
     }
    },
    "colab_type": "code",
    "id": "1j9VLW5X84W5"
   },
   "outputs": [
    {
     "name": "stdout",
     "output_type": "stream",
     "text": [
      "total 37528\n",
      "-rw-r--r--  1 jlzhou  staff    18M Sep 16 13:13 GSE120861_all_deg_results.pilot.txt.gz\n",
      "-rw-r--r--  1 jlzhou  staff    14B Sep 16 13:04 exampleView.txt\n",
      "-rwxr-xr--  2 jlzhou  staff     5B Sep 16 13:11 \u001b[1m\u001b[32mmyLinks.txt\u001b[39;49m\u001b[0m*\n",
      "lrwxr-xr-x  1 jlzhou  staff    11B Sep 16 13:11 \u001b[1m\u001b[35mmyLinks.txt.path\u001b[39;49m\u001b[0m@ -> ../blah.txt\n",
      "-rw-r--r--  1 jlzhou  staff    13B Sep 16 13:01 myNewFile.txt\n"
     ]
    }
   ],
   "source": [
    "### Try it here\n",
    "chmod 754 myLinks.txt \n",
    "\n",
    "ls -l\n"
   ]
  },
  {
   "cell_type": "markdown",
   "metadata": {
    "colab_type": "text",
    "id": "nZhnCrif84W7"
   },
   "source": [
    "# Advanced Commands"
   ]
  },
  {
   "cell_type": "markdown",
   "metadata": {
    "colab_type": "text",
    "id": "g_BC7yPA84W7"
   },
   "source": [
    "## More advanced piping\n",
    "\n",
    "So we saw how `>` can pipe command line output into a file.  How do we pipe output from one command to another?  \n",
    "\n",
    "We use ` | `.  We can do this as many times as we want to chain commands. Lets check it out."
   ]
  },
  {
   "cell_type": "code",
   "execution_count": 57,
   "metadata": {
    "colab": {
     "autoexec": {
      "startup": false,
      "wait_interval": 0
     }
    },
    "colab_type": "code",
    "id": "AXnnTK2B84W8"
   },
   "outputs": [
    {
     "name": "stdout",
     "output_type": "stream",
     "text": [
      "total 37528\n",
      "-rw-r--r--  1 jlzhou  staff    18M Sep 16 13:13 GSE120861_all_deg_results.pilot.txt.gz\n",
      "-rw-r--r--  1 jlzhou  staff    14B Sep 16 13:04 exampleView.txt\n",
      "-rwxr-xr--  2 jlzhou  staff     5B Sep 16 13:11 \u001b[1m\u001b[32mmyLinks.txt\u001b[39;49m\u001b[0m*\n",
      "lrwxr-xr-x  1 jlzhou  staff    11B Sep 16 13:11 \u001b[1m\u001b[35mmyLinks.txt.path\u001b[39;49m\u001b[0m@ -> ../blah.txt\n",
      "-rw-r--r--  1 jlzhou  staff    13B Sep 16 13:01 myNewFile.txt\n"
     ]
    }
   ],
   "source": [
    "ls -l"
   ]
  },
  {
   "cell_type": "code",
   "execution_count": 58,
   "metadata": {
    "colab": {
     "autoexec": {
      "startup": false,
      "wait_interval": 0
     }
    },
    "colab_type": "code",
    "id": "TQ9uXn-v84XA"
   },
   "outputs": [
    {
     "name": "stdout",
     "output_type": "stream",
     "text": [
      "       5\n"
     ]
    }
   ],
   "source": [
    "ls | wc -l"
   ]
  },
  {
   "cell_type": "code",
   "execution_count": 59,
   "metadata": {
    "colab": {
     "autoexec": {
      "startup": false,
      "wait_interval": 0
     }
    },
    "colab_type": "code",
    "id": "eapTp8Iq84XB"
   },
   "outputs": [
    {
     "name": "stdout",
     "output_type": "stream",
     "text": [
      "       1\n"
     ]
    }
   ],
   "source": [
    "ls | wc -l | wc -l > someOutput.txt\n",
    "cat someOutput.txt"
   ]
  },
  {
   "cell_type": "markdown",
   "metadata": {
    "colab_type": "text",
    "id": "0og70aGA84XD"
   },
   "source": [
    "## `tee`\n",
    "\n",
    "`tee` lets us display output, and also pipe it to a file at the same time.  As `tee` is a command, we pipe to it with ` | `"
   ]
  },
  {
   "cell_type": "code",
   "execution_count": 60,
   "metadata": {
    "colab": {
     "autoexec": {
      "startup": false,
      "wait_interval": 0
     }
    },
    "colab_type": "code",
    "id": "3QvBqSkH84XH"
   },
   "outputs": [
    {
     "name": "stdout",
     "output_type": "stream",
     "text": [
      "GSE120861_all_deg_results.pilot.txt.gz\n",
      "exampleView.txt\n",
      "myLinks.txt*\n",
      "myLinks.txt.path@\n",
      "myNewFile.txt\n",
      "someOutput.txt\n"
     ]
    }
   ],
   "source": [
    "ls | tee someOutput.txt"
   ]
  },
  {
   "cell_type": "code",
   "execution_count": 61,
   "metadata": {
    "colab": {
     "autoexec": {
      "startup": false,
      "wait_interval": 0
     }
    },
    "colab_type": "code",
    "id": "k3kBgWvS84XI"
   },
   "outputs": [
    {
     "name": "stdout",
     "output_type": "stream",
     "text": [
      "GSE120861_all_deg_results.pilot.txt.gz\n",
      "exampleView.txt\n",
      "myLinks.txt*\n",
      "myLinks.txt.path@\n",
      "myNewFile.txt\n",
      "someOutput.txt\n"
     ]
    }
   ],
   "source": [
    "cat someOutput.txt"
   ]
  },
  {
   "cell_type": "markdown",
   "metadata": {
    "colab_type": "text",
    "id": "guxW2UIJ84XK"
   },
   "source": [
    "#### Before we proceed, we need to get a file that has multiple columns.  Lets download a file via git to mess around with going forward"
   ]
  },
  {
   "cell_type": "code",
   "execution_count": 62,
   "metadata": {
    "colab": {
     "autoexec": {
      "startup": false,
      "wait_interval": 0
     }
    },
    "colab_type": "code",
    "id": "hKg2zf8g84XK"
   },
   "outputs": [
    {
     "name": "stdout",
     "output_type": "stream",
     "text": [
      "Cloning into 'gwas_tutorial'...\n",
      "remote: Enumerating objects: 37, done.\u001b[K\n",
      "remote: Total 37 (delta 0), reused 0 (delta 0), pack-reused 37\u001b[K\n",
      "Unpacking objects: 100% (37/37), done.\n"
     ]
    }
   ],
   "source": [
    "git clone https://github.com/zrcjessica/gwas_tutorial.git"
   ]
  },
  {
   "cell_type": "code",
   "execution_count": 63,
   "metadata": {
    "colab": {
     "autoexec": {
      "startup": false,
      "wait_interval": 0
     }
    },
    "colab_type": "code",
    "id": "dGS2b9Gl84XM"
   },
   "outputs": [
    {
     "name": "stdout",
     "output_type": "stream",
     "text": [
      "gwas_tutorial/ALL.chr1.phase3.1.bed\n",
      "gwas_tutorial/ALL.chr1.phase3.1.bim\n",
      "gwas_tutorial/ALL.chr1.phase3.1.fam\n",
      "gwas_tutorial/ALL.chr1.phase3.1.log\n",
      "gwas_tutorial/ALL.chr1.phase3.1.nosex\n",
      "gwas_tutorial/GWAS_Intro.pptx\n",
      "gwas_tutorial/IBD_GWAS_analysis.ipynb\n",
      "gwas_tutorial/IBD_GWAS_summary_thinned.txt\n",
      "gwas_tutorial/PLINK_tutorial.ipynb\n",
      "gwas_tutorial/README.md\n",
      "gwas_tutorial/mhc_genome_browser_hg19.png\n"
     ]
    }
   ],
   "source": [
    "ls gwas_tutorial/*"
   ]
  },
  {
   "cell_type": "code",
   "execution_count": 64,
   "metadata": {
    "colab": {
     "autoexec": {
      "startup": false,
      "wait_interval": 0
     }
    },
    "colab_type": "code",
    "id": "wslcUz6y84XN"
   },
   "outputs": [
    {
     "name": "stdout",
     "output_type": "stream",
     "text": [
      "total 59960\n",
      "-rw-r--r--  1 jlzhou  staff    18M Sep 16 13:13 GSE120861_all_deg_results.pilot.txt.gz\n",
      "-rw-r--r--  1 jlzhou  staff    11M Sep 16 13:22 IBD_GWAS_summary_thinned.txt\n",
      "-rw-r--r--  1 jlzhou  staff    14B Sep 16 13:04 exampleView.txt\n",
      "-rwxr-xr--  2 jlzhou  staff     5B Sep 16 13:11 \u001b[1m\u001b[32mmyLinks.txt\u001b[39;49m\u001b[0m*\n",
      "lrwxr-xr-x  1 jlzhou  staff    11B Sep 16 13:11 \u001b[1m\u001b[35mmyLinks.txt.path\u001b[39;49m\u001b[0m@ -> ../blah.txt\n",
      "-rw-r--r--  1 jlzhou  staff    13B Sep 16 13:01 myNewFile.txt\n",
      "-rw-r--r--  1 jlzhou  staff   115B Sep 16 13:22 someOutput.txt\n"
     ]
    }
   ],
   "source": [
    "mv gwas_tutorial/IBD_GWAS_summary_thinned.txt ./\n",
    "rm -rf gwas_tutorial\n",
    "ls -l"
   ]
  },
  {
   "cell_type": "markdown",
   "metadata": {
    "colab_type": "text",
    "id": "JDFUJT8_84XO"
   },
   "source": [
    "#### Before we proceed, lets check out what is in that file"
   ]
  },
  {
   "cell_type": "code",
   "execution_count": 65,
   "metadata": {
    "colab": {
     "autoexec": {
      "startup": false,
      "wait_interval": 0
     }
    },
    "colab_type": "code",
    "id": "zUEC3ybg84XO"
   },
   "outputs": [
    {
     "name": "stdout",
     "output_type": "stream",
     "text": [
      "CHR\tSNP\tBP\tA1\tA2\tFRQ_A_12882\tFRQ_U_21770\tINFO\tOR\tSE\tP\tDirection\tHetISqt\tHetPVa\tnstudies\tstudies_included\n",
      "11\trs1893630\t58598691\tT\tC\t0.0218\t0.0207\t0.962\t1.06844\t0.0595\t0.2658\t-+++++++++---+-\t-11.8\t0.4268\t15\t15\n",
      "16\trs6497696\t23901896\tT\tC\t0.946\t0.944\t0.974\t0.99661\t0.0369\t0.9263\t+-+---+-+++---+\t-2.8\t0.3409\t15\t15\n",
      "4\trs142699136\t75837642\tC\tG\t0.414\t0.419\t0.898\t0.98373\t0.018\t0.3629\t-+++--+-+-+-++-\t18.1\t0.1453\t15\t15\n",
      "2\trs10199426\t45961154\tC\tG\t0.92\t0.923\t0.968\t0.97307\t0.0313\t0.3835\t----+--++-++--+\t0\t0.8698\t15\t15\n"
     ]
    }
   ],
   "source": [
    "head -n 5 IBD_GWAS_summary_thinned.txt"
   ]
  },
  {
   "cell_type": "markdown",
   "metadata": {
    "colab_type": "text",
    "id": "IFUpJKhn84XQ"
   },
   "source": [
    "##  Cut\n",
    "\n",
    "`cut` lets us pull specific columns out of a file.  The normal delimeter is `\\t`, though we can set a different one with `-d` (e.g. for a .csv or a white-space delimited file)"
   ]
  },
  {
   "cell_type": "code",
   "execution_count": 66,
   "metadata": {
    "colab": {
     "autoexec": {
      "startup": false,
      "wait_interval": 0
     }
    },
    "colab_type": "code",
    "id": "Vy_oIs6P84XQ"
   },
   "outputs": [
    {
     "name": "stdout",
     "output_type": "stream",
     "text": [
      "SNP\n",
      "rs1893630\n",
      "rs6497696\n",
      "rs142699136\n",
      "rs10199426\n",
      "rs142435456\n",
      "rs74924571\n",
      "rs77568341\n",
      "rs182272441\n",
      "rs180866948\n"
     ]
    }
   ],
   "source": [
    "cut -f2 IBD_GWAS_summary_thinned.txt | head"
   ]
  },
  {
   "cell_type": "code",
   "execution_count": 70,
   "metadata": {
    "colab": {
     "autoexec": {
      "startup": false,
      "wait_interval": 0
     }
    },
    "colab_type": "code",
    "id": "EoVTOUsk84XR"
   },
   "outputs": [],
   "source": [
    "### Try to print out the third column, store it to a file name \"testingFile.txt\", and display it at the same time\n",
    "\n",
    "cut -f3 IBD_GWAS_summary_thinned.txt > testingFile.txt | head \n",
    "\n",
    "\n"
   ]
  },
  {
   "cell_type": "markdown",
   "metadata": {
    "colab_type": "text",
    "id": "ABBEyQo884XV"
   },
   "source": [
    "## Awk\n",
    "\n",
    "`awk` is more advanced language for text processing and data manipulation, and can be used in the command line or in a  script.  You can get pretty advanced with it.\n",
    "\n",
    "Lets just print the first two columns with a tab between them."
   ]
  },
  {
   "cell_type": "code",
   "execution_count": 71,
   "metadata": {
    "colab": {
     "autoexec": {
      "startup": false,
      "wait_interval": 0
     }
    },
    "colab_type": "code",
    "id": "Jso3V4zG84XW"
   },
   "outputs": [
    {
     "name": "stdout",
     "output_type": "stream",
     "text": [
      "CHR,SNP\n",
      "11,rs1893630\n",
      "16,rs6497696\n",
      "4,rs142699136\n",
      "2,rs10199426\n",
      "20,rs142435456\n",
      "4,rs74924571\n",
      "11,rs77568341\n",
      "13,rs182272441\n",
      "10,rs180866948\n"
     ]
    }
   ],
   "source": [
    "awk '{print $1 \",\" $2}' IBD_GWAS_summary_thinned.txt | head "
   ]
  },
  {
   "cell_type": "markdown",
   "metadata": {
    "colab_type": "text",
    "id": "N-4mhwSF84XX"
   },
   "source": [
    "Lets print the first two columns with \"...\" between them by overriding the default field separator. We specify this with `OFS='...'`. `OFS` is one of many special variables that `awk` has. It stands for Output Field Separator Variable. By default, it is a space character. The `-v` flag specifies that we are using a special `awk` variable."
   ]
  },
  {
   "cell_type": "code",
   "execution_count": 72,
   "metadata": {
    "colab": {
     "autoexec": {
      "startup": false,
      "wait_interval": 0
     }
    },
    "colab_type": "code",
    "id": "ao94iqAu84XX"
   },
   "outputs": [
    {
     "name": "stdout",
     "output_type": "stream",
     "text": [
      "CHR...SNP\n",
      "11...rs1893630\n",
      "16...rs6497696\n",
      "4...rs142699136\n",
      "2...rs10199426\n",
      "20...rs142435456\n",
      "4...rs74924571\n",
      "11...rs77568341\n",
      "13...rs182272441\n",
      "10...rs180866948\n"
     ]
    }
   ],
   "source": [
    "awk -v OFS='...' '{print $1,$2}' IBD_GWAS_summary_thinned.txt | head"
   ]
  },
  {
   "cell_type": "markdown",
   "metadata": {},
   "source": [
    "Let's play with another useful special variable, `NR`, or Number of Records Variable. This is better known as line number. Let's do what we did above, but printing only the header and all even numbered lines."
   ]
  },
  {
   "cell_type": "code",
   "execution_count": 73,
   "metadata": {},
   "outputs": [
    {
     "name": "stdout",
     "output_type": "stream",
     "text": [
      "CHR...SNP\n",
      "11...rs1893630\n",
      "4...rs142699136\n",
      "20...rs142435456\n",
      "11...rs77568341\n",
      "10...rs180866948\n",
      "13...rs61965202\n",
      "5...rs115839312\n",
      "16...rs301151\n",
      "6...rs117711086\n"
     ]
    }
   ],
   "source": [
    "awk -v OFS='...' 'NR==1 || NR %2 == 0 {print $1, $2}' IBD_GWAS_summary_thinned.txt | head"
   ]
  },
  {
   "cell_type": "markdown",
   "metadata": {
    "colab_type": "text",
    "id": "vnHlUhUh84XY"
   },
   "source": [
    "Lets print the first two columns with \"...\" between them, but not for the first column, and then also add the line number starting at the second line. By the way, notice how we broke up the long command with `\\` - this allows you to visualize longer commands better."
   ]
  },
  {
   "cell_type": "code",
   "execution_count": 74,
   "metadata": {
    "colab": {
     "autoexec": {
      "startup": false,
      "wait_interval": 0
     }
    },
    "colab_type": "code",
    "id": "w74cBYDx84XZ"
   },
   "outputs": [
    {
     "name": "stdout",
     "output_type": "stream",
     "text": [
      "CHR\tSNP\tline\n",
      "11...rs1893630...1\n",
      "16...rs6497696...2\n",
      "4...rs142699136...3\n",
      "2...rs10199426...4\n",
      "20...rs142435456...5\n",
      "4...rs74924571...6\n",
      "11...rs77568341...7\n",
      "13...rs182272441...8\n",
      "10...rs180866948...9\n"
     ]
    }
   ],
   "source": [
    "awk -v OFS='...' \\\n",
    "'{if (NR==1) print $1 \"\\t\" $2 \"\\t\" \"line\"; else print $1,$2, NR-1}' IBD_GWAS_summary_thinned.txt | head"
   ]
  },
  {
   "cell_type": "code",
   "execution_count": 83,
   "metadata": {
    "colab": {
     "autoexec": {
      "startup": false,
      "wait_interval": 0
     }
    },
    "colab_type": "code",
    "id": "X_EnGjjF84Xb"
   },
   "outputs": [
    {
     "name": "stdout",
     "output_type": "stream",
     "text": [
      "CHR\tSNP\tBP\tA1\tA2\tline\n",
      "11..rs1893630..58598691..T..C\t\t1\n",
      "16..rs6497696..23901896..T..C\t\t2\n",
      "4..rs142699136..75837642..C..G\t\t3\n",
      "2..rs10199426..45961154..C..G\t\t4\n",
      "20..rs142435456..14653907..A..C\t\t5\n",
      "4..rs74924571..56679171..A..G\t\t6\n"
     ]
    }
   ],
   "source": [
    "### Try to print the first 5 columns and the line number, with the first 5 columns separated by \"..\" \n",
    "### and the line number separated by two tabs.  Then only show the first 7 lines of the output\n",
    "awk -v OFS='..' \\\n",
    "'{if (NR==1) print $1 \"\\t\" $2 \"\\t\" $3 \"\\t\" $4 \"\\t\" $5 \"\\t\" \"line\"; else print $1,$2,$3,$4,$5 \"\\t\\t\" NR-l -1}' IBD_GWAS_summary_thinned.txt | head -n 7\n",
    "\n",
    "\n",
    "\n"
   ]
  },
  {
   "cell_type": "markdown",
   "metadata": {
    "colab_type": "text",
    "id": "fy1oxSHW84Xh"
   },
   "source": [
    "## Grep\n",
    "\n",
    "`grep` performs character matching, and then returns all the lines that match that string"
   ]
  },
  {
   "cell_type": "code",
   "execution_count": 84,
   "metadata": {
    "colab": {
     "autoexec": {
      "startup": false,
      "wait_interval": 0
     }
    },
    "colab_type": "code",
    "id": "Q9cOgY2584Xi"
   },
   "outputs": [
    {
     "name": "stdout",
     "output_type": "stream",
     "text": [
      "  115558 IBD_GWAS_summary_thinned.txt\n"
     ]
    }
   ],
   "source": [
    "wc -l IBD_GWAS_summary_thinned.txt"
   ]
  },
  {
   "cell_type": "code",
   "execution_count": 85,
   "metadata": {},
   "outputs": [
    {
     "name": "stdout",
     "output_type": "stream",
     "text": [
      "10\tchr10_49691620_I\t49691620\tI2\tD\t0.0145\t0.0144\t0.411\t0.84131\t0.1133\t0.1272\t-+++++---+--+-+\t8.5\t0.2315\t15\t15\n",
      "10\tchr10_58672028_D\t58672028\tI2\tD\t0.884\t0.888\t1.01\t0.95171\t0.0261\t0.0581\t+++++++-++++---\t0\t0.5662\t15\t15\n",
      "10\tchr10_69847977_D\t69847977\tI2\tD\t0.96\t0.962\t0.886\t0.94374\t0.0455\t0.2032\t-+-++++++++--+-\t5.8\t0.2574\t15\t15\n",
      "10\tchr10_107668275_I\t107668275\tI5\tD\t0.293\t0.291\t0.974\t1.00552\t0.0187\t0.7686\t---++----+++--+\t0\t0.6405\t15\t15\n",
      "10\tchr10_97057248_D\t97057248\tI2\tD\t0.992\t0.992\t0.324\t0.88595\t0.1631\t0.4579\t+++-++++--+----\t-8.9\t0.3995\t15\t15\n"
     ]
    }
   ],
   "source": [
    "grep \"chr10\" IBD_GWAS_summary_thinned.txt | head -n 5"
   ]
  },
  {
   "cell_type": "code",
   "execution_count": 86,
   "metadata": {
    "colab": {
     "autoexec": {
      "startup": false,
      "wait_interval": 0
     }
    },
    "colab_type": "code",
    "id": "k0RFRuTs84Xk"
   },
   "outputs": [
    {
     "name": "stdout",
     "output_type": "stream",
     "text": [
      "     496\n"
     ]
    }
   ],
   "source": [
    "grep \"chr10\" IBD_GWAS_summary_thinned.txt | wc -l"
   ]
  },
  {
   "cell_type": "code",
   "execution_count": 87,
   "metadata": {
    "colab": {
     "autoexec": {
      "startup": false,
      "wait_interval": 0
     }
    },
    "colab_type": "code",
    "id": "sNngTSkh84Xm"
   },
   "outputs": [
    {
     "name": "stdout",
     "output_type": "stream",
     "text": [
      "  106005\n"
     ]
    }
   ],
   "source": [
    "grep \"rs\" IBD_GWAS_summary_thinned.txt | wc -l"
   ]
  },
  {
   "cell_type": "markdown",
   "metadata": {
    "colab_type": "text",
    "id": "mHKWda1V84Xn"
   },
   "source": [
    "## Sed\n",
    "Another way to edit files.  Sed has many commands, so its less easy to teach at once.  Lets look at one example where we add a prefix string to every line in the file."
   ]
  },
  {
   "cell_type": "code",
   "execution_count": 88,
   "metadata": {
    "colab": {
     "autoexec": {
      "startup": false,
      "wait_interval": 0
     }
    },
    "colab_type": "code",
    "id": "p0vZyux084Xo"
   },
   "outputs": [
    {
     "name": "stdout",
     "output_type": "stream",
     "text": [
      "---PFXCHR\tSNP\tBP\tA1\tA2\tFRQ_A_12882\tFRQ_U_21770\tINFO\tOR\tSE\tP\tDirection\tHetISqt\tHetPVa\tnstudies\tstudies_included\n",
      "---PFX11\trs1893630\t58598691\tT\tC\t0.0218\t0.0207\t0.962\t1.06844\t0.0595\t0.2658\t-+++++++++---+-\t-11.8\t0.4268\t15\t15\n",
      "---PFX16\trs6497696\t23901896\tT\tC\t0.946\t0.944\t0.974\t0.99661\t0.0369\t0.9263\t+-+---+-+++---+\t-2.8\t0.3409\t15\t15\n",
      "---PFX4\trs142699136\t75837642\tC\tG\t0.414\t0.419\t0.898\t0.98373\t0.018\t0.3629\t-+++--+-+-+-++-\t18.1\t0.1453\t15\t15\n",
      "---PFX2\trs10199426\t45961154\tC\tG\t0.92\t0.923\t0.968\t0.97307\t0.0313\t0.3835\t----+--++-++--+\t0\t0.8698\t15\t15\n",
      "---PFX20\trs142435456\t14653907\tA\tC\t0.983\t0.982\t0.563\t1.04991\t0.0849\t0.5662\t-+++++----++-+-\t40.2\t0.02082\t15\t15\n",
      "---PFX4\trs74924571\t56679171\tA\tG\t0.992\t0.993\t0.924\t1.099\t0.1472\t0.5216\t????++?--?++??-\t2.6\t0.2227\t15\t7\n",
      "---PFX11\trs77568341\t19345589\tA\tG\t0.113\t0.113\t0.889\t1.01491\t0.0277\t0.5929\t+-+-+++-+----+-\t-0.6\t0.3197\t15\t15\n",
      "---PFX13\trs182272441\t102064328\tA\tG\t0.00942\t0.00962\t0.811\t0.96445\t0.0991\t0.7149\t+--+--++--+?--+\t16.4\t0.1595\t15\t14\n",
      "---PFX10\trs180866948\t102118546\tA\tG\t0.988\t0.988\t0.51\t1.04404\t0.1074\t0.688\t++++-+---+-++++\t0\t0.8587\t15\t15\n"
     ]
    }
   ],
   "source": [
    "sed -e 's/^/---PFX/' IBD_GWAS_summary_thinned.txt | head"
   ]
  },
  {
   "cell_type": "markdown",
   "metadata": {
    "colab_type": "text",
    "id": "yQpveCDt84Xp"
   },
   "source": [
    "## Paste\n",
    "`paste` lets us join two files together horizontally instead of vertically (like `cbind` in R). Let's do this with the beginning of the file, looking at just the first five columns."
   ]
  },
  {
   "cell_type": "code",
   "execution_count": 89,
   "metadata": {
    "colab": {
     "autoexec": {
      "startup": false,
      "wait_interval": 0
     }
    },
    "colab_type": "code",
    "id": "gxNBF8u684Xp"
   },
   "outputs": [
    {
     "name": "stdout",
     "output_type": "stream",
     "text": [
      "CHR\tSNP\tBP\tA1\tA2\tCHR\tSNP\tBP\tA1\tA2\n",
      "11\trs1893630\t58598691\tT\tC\t11\trs1893630\t58598691\tT\tC\n",
      "16\trs6497696\t23901896\tT\tC\t16\trs6497696\t23901896\tT\tC\n",
      "4\trs142699136\t75837642\tC\tG\t4\trs142699136\t75837642\tC\tG\n",
      "2\trs10199426\t45961154\tC\tG\t2\trs10199426\t45961154\tC\tG\n",
      "20\trs142435456\t14653907\tA\tC\t20\trs142435456\t14653907\tA\tC\n",
      "4\trs74924571\t56679171\tA\tG\t4\trs74924571\t56679171\tA\tG\n",
      "11\trs77568341\t19345589\tA\tG\t11\trs77568341\t19345589\tA\tG\n",
      "13\trs182272441\t102064328\tA\tG\t13\trs182272441\t102064328\tA\tG\n",
      "10\trs180866948\t102118546\tA\tG\t10\trs180866948\t102118546\tA\tG\n"
     ]
    }
   ],
   "source": [
    "head IBD_GWAS_summary_thinned.txt | cut -f1-5 > tmp\n",
    "paste tmp tmp"
   ]
  },
  {
   "cell_type": "markdown",
   "metadata": {
    "colab_type": "text",
    "id": "anBL8GSq84Xq"
   },
   "source": [
    "What if the files arent the same lengths?  Doesnt matter, it just stops pasting from the shorter file"
   ]
  },
  {
   "cell_type": "code",
   "execution_count": 90,
   "metadata": {
    "colab": {
     "autoexec": {
      "startup": false,
      "wait_interval": 0
     }
    },
    "colab_type": "code",
    "id": "N9xHUjbC84Xr"
   },
   "outputs": [
    {
     "name": "stdout",
     "output_type": "stream",
     "text": [
      "CHR\tSNP\tBP\tA1\tA2\tblah\n",
      "11\trs1893630\t58598691\tT\tC\t\n",
      "16\trs6497696\t23901896\tT\tC\t\n",
      "4\trs142699136\t75837642\tC\tG\t\n",
      "2\trs10199426\t45961154\tC\tG\t\n",
      "20\trs142435456\t14653907\tA\tC\t\n",
      "4\trs74924571\t56679171\tA\tG\t\n",
      "11\trs77568341\t19345589\tA\tG\t\n",
      "13\trs182272441\t102064328\tA\tG\t\n",
      "10\trs180866948\t102118546\tA\tG\t\n"
     ]
    }
   ],
   "source": [
    "paste tmp  myLinks.txt | head"
   ]
  },
  {
   "cell_type": "code",
   "execution_count": 91,
   "metadata": {},
   "outputs": [],
   "source": [
    "rm tmp"
   ]
  },
  {
   "cell_type": "markdown",
   "metadata": {
    "colab_type": "text",
    "id": "d1BPUYGo84Xu"
   },
   "source": [
    "## Sort a file\n",
    "`sort` is a standard command line program that does exactly what its name implies.\n",
    "\n",
    "Let's see what happens when we try sorting our file normally on the first five columns, without any options."
   ]
  },
  {
   "cell_type": "code",
   "execution_count": 93,
   "metadata": {},
   "outputs": [
    {
     "name": "stdout",
     "output_type": "stream",
     "text": [
      "1\tMERGED_DEL_2_3561\t53933587\tI334\tD\n",
      "1\tchr1_100139142_D\t100139142\tD\tI3\n",
      "1\tchr1_100499889_I\t100499889\tD\tI4\n",
      "1\tchr1_100566614_I\t100566614\tD\tI3\n",
      "1\tchr1_10095049_I\t10095049\tI2\tD\n",
      "1\tchr1_100956894_D\t100956894\tD\tI3\n",
      "1\tchr1_101281234_D\t101281234\tI2\tD\n",
      "1\tchr1_101680730_D\t101680730\tI2\tD\n",
      "1\tchr1_101729829_I\t101729829\tI2\tD\n",
      "1\tchr1_101737598_I\t101737598\tD\tI3\n"
     ]
    }
   ],
   "source": [
    "cut -f1-5 IBD_GWAS_summary_thinned.txt | sort - | head"
   ]
  },
  {
   "cell_type": "markdown",
   "metadata": {},
   "source": [
    "By the way, you can sort in reverse as well by adding the `-r` option:"
   ]
  },
  {
   "cell_type": "code",
   "execution_count": 94,
   "metadata": {},
   "outputs": [
    {
     "name": "stdout",
     "output_type": "stream",
     "text": [
      "CHR\tSNP\tBP\tA1\tA2\n",
      "9\trs9969804\t95429120\tA\tC\n",
      "9\trs9969737\t21659006\tC\tG\n",
      "9\trs9969694\t83140679\tT\tC\n",
      "9\trs993146\t115685204\tT\tC\n",
      "9\trs9919013\t12300395\tT\tC\n",
      "9\trs9919006\t136119493\tT\tC\n",
      "9\trs991798\t24584682\tT\tC\n",
      "9\trs987353\t9456615\tA\tG\n",
      "9\trs9802783\t130902747\tT\tC\n"
     ]
    }
   ],
   "source": [
    "cut -f1-5 IBD_GWAS_summary_thinned.txt | sort -r - | head"
   ]
  },
  {
   "cell_type": "markdown",
   "metadata": {},
   "source": [
    "Why does chr9 come out at the top? Aren't there 22 chromosomes? It's because it's being treated as a string.\n",
    "\n",
    "You can specify the field to sort on using `-k` followed by the number of the column. You can also sort by numerical value using the flag `-n`."
   ]
  },
  {
   "cell_type": "code",
   "execution_count": 98,
   "metadata": {},
   "outputs": [
    {
     "name": "stdout",
     "output_type": "stream",
     "text": [
      "22\trs998481\t41108455\tA\tC\n",
      "22\trs9917602\t27733111\tC\tG\n",
      "22\trs990360\t25665270\tA\tG\n",
      "22\trs971252\t48240300\tT\tC\n",
      "22\trs968488\t17653030\tT\tC\n",
      "22\trs9628614\t49112404\tA\tG\n",
      "22\trs9628510\t49039354\tT\tG\n",
      "22\trs9627651\t49306621\tA\tG\n",
      "22\trs9627583\t46501009\tA\tG\n",
      "22\trs9627352\t46663287\tT\tG\n"
     ]
    }
   ],
   "source": [
    "cut -f1-5 IBD_GWAS_summary_thinned.txt | sort -k 1 -n  -r - | head"
   ]
  },
  {
   "cell_type": "markdown",
   "metadata": {},
   "source": [
    "Let's sort on the P-values of the GWAS SNPs (column 11) and show select columns for the top hits. "
   ]
  },
  {
   "cell_type": "code",
   "execution_count": 99,
   "metadata": {},
   "outputs": [
    {
     "name": "stdout",
     "output_type": "stream",
     "text": [
      "CHR\tSNP\tBP\tA1\tA2\tP\n",
      "11\trs174549\t61571382\tA\tG\t0.0001008\n",
      "8\trs7017974\t49164057\tT\tC\t0.0001063\n",
      "10\trs149622795\t33048938\tA\tG\t0.0001065\n",
      "6\trs114184069\t32889593\tA\tG\t0.0001082\n",
      "10\tchr10_44692452_D\t44692452\tI2\tD\t0.0001096\n",
      "1\trs7528291\t83249252\tA\tG\t0.0001116\n",
      "10\trs34101838\t35265055\tT\tC\t0.000114\n",
      "10\trs386680\t8103986\tC\tG\t0.0001146\n",
      "20\trs6011165\t62456418\tT\tC\t0.0001149\n"
     ]
    }
   ],
   "source": [
    "sort -k 11 -n IBD_GWAS_summary_thinned.txt| head | cut -f1-5,11"
   ]
  },
  {
   "cell_type": "markdown",
   "metadata": {},
   "source": [
    "Looks like there's a lot of hits on chromosome 10. Must be relevant for IBD! Also looks like there's a hit in the MHC region on chromosome 6 - no surprise, lots of research has corroborated the role of MHC in complex diseases. For extra practice, let's sort on chromosome, and then the p-values of the SNPs on that chromosome."
   ]
  },
  {
   "cell_type": "markdown",
   "metadata": {},
   "source": [
    "##### Sorting on multiple fields\n",
    "Let's sort the table on chromosome, and then the p-values of the SNPs on that chromosome. This requires a `-k m,n` format, where `-m` and `-n` refer to the start and end columns of keys that potentially span multiple columns. To sort on chromosome first, we use `-k 1,1n` to indicate that the key to be sorted by numerical value starts and ends in column 1. If we use only `-k 1n`, then the entire row starting from column 1 would be used as the key for sorting. To sort on the p-value second, we use `-k 11,11n`. "
   ]
  },
  {
   "cell_type": "code",
   "execution_count": 100,
   "metadata": {},
   "outputs": [
    {
     "name": "stdout",
     "output_type": "stream",
     "text": [
      "CHR\tSNP\tBP\tA1\tA2\tP\n",
      "1\trs7528291\t83249252\tA\tG\t0.0001116\n",
      "1\trs12119831\t56392010\tA\tG\t0.0001173\n",
      "1\tchr1_200641053_D\t200641053\tI5\tD\t0.0001265\n",
      "1\trs407424\t83161693\tA\tG\t0.0001395\n",
      "1\trs16823061\t20190672\tA\tG\t0.000141\n",
      "1\trs72997655\t77289266\tT\tC\t0.0001821\n",
      "1\trs7534009\t22728093\tA\tG\t0.0002239\n",
      "1\trs11809382\t212954684\tA\tT\t0.0002283\n",
      "1\trs3851912\t155586444\tT\tG\t0.0002371\n"
     ]
    }
   ],
   "source": [
    "sort -k 1,1n -k 11,11n IBD_GWAS_summary_thinned.txt | head | cut -f1-5,11"
   ]
  },
  {
   "cell_type": "markdown",
   "metadata": {
    "colab_type": "text",
    "id": "auO2tNSh84X8"
   },
   "source": [
    "## For loops"
   ]
  },
  {
   "cell_type": "markdown",
   "metadata": {
    "colab_type": "text",
    "id": "peYh7z0x84X8"
   },
   "source": [
    "Loop over values"
   ]
  },
  {
   "cell_type": "code",
   "execution_count": 101,
   "metadata": {
    "colab": {
     "autoexec": {
      "startup": false,
      "wait_interval": 0
     }
    },
    "colab_type": "code",
    "id": "9XBMA0Jn84X9"
   },
   "outputs": [
    {
     "name": "stdout",
     "output_type": "stream",
     "text": [
      "a\n",
      "b\n",
      "c\n",
      "d\n"
     ]
    }
   ],
   "source": [
    "for i in a b c d; do \n",
    "    echo $i; \n",
    "done"
   ]
  },
  {
   "cell_type": "markdown",
   "metadata": {
    "colab_type": "text",
    "id": "SRt1cD-e84X_"
   },
   "source": [
    "Loop over a sequence"
   ]
  },
  {
   "cell_type": "code",
   "execution_count": 103,
   "metadata": {
    "colab": {
     "autoexec": {
      "startup": false,
      "wait_interval": 0
     }
    },
    "colab_type": "code",
    "id": "8opdQA0y84YA"
   },
   "outputs": [
    {
     "name": "stdout",
     "output_type": "stream",
     "text": [
      "1\n",
      "2\n",
      "3\n",
      "4\n",
      "5\n",
      "6\n",
      "7\n",
      "8\n",
      "9\n",
      "10\n"
     ]
    }
   ],
   "source": [
    "for i in `seq 1 10`; do echo $i; done"
   ]
  },
  {
   "cell_type": "markdown",
   "metadata": {},
   "source": [
    "Let's make a directory and write a series of dummy files to that directory."
   ]
  },
  {
   "cell_type": "code",
   "execution_count": 104,
   "metadata": {},
   "outputs": [],
   "source": [
    "mkdir ./dummy_files"
   ]
  },
  {
   "cell_type": "code",
   "execution_count": 105,
   "metadata": {},
   "outputs": [
    {
     "name": "stdout",
     "output_type": "stream",
     "text": [
      "total 62136\n",
      "-rw-r--r--  1 jlzhou  staff    18M Sep 16 13:13 GSE120861_all_deg_results.pilot.txt.gz\n",
      "-rw-r--r--  1 jlzhou  staff    11M Sep 16 13:22 IBD_GWAS_summary_thinned.txt\n",
      "drwxr-xr-x  2 jlzhou  staff    64B Sep 16 14:03 \u001b[1m\u001b[34mdummy_files\u001b[39;49m\u001b[0m/\n",
      "-rw-r--r--  1 jlzhou  staff    14B Sep 16 13:04 exampleView.txt\n",
      "-rwxr-xr--  2 jlzhou  staff     5B Sep 16 13:11 \u001b[1m\u001b[32mmyLinks.txt\u001b[39;49m\u001b[0m*\n",
      "lrwxr-xr-x  1 jlzhou  staff    11B Sep 16 13:11 \u001b[1m\u001b[35mmyLinks.txt.path\u001b[39;49m\u001b[0m@ -> ../blah.txt\n",
      "-rw-r--r--  1 jlzhou  staff    13B Sep 16 13:01 myNewFile.txt\n",
      "-rw-r--r--  1 jlzhou  staff   115B Sep 16 13:22 someOutput.txt\n",
      "-rw-r--r--  1 jlzhou  staff   1.0M Sep 16 13:30 testingFile.txt\n"
     ]
    }
   ],
   "source": [
    "ls -l"
   ]
  },
  {
   "cell_type": "code",
   "execution_count": 106,
   "metadata": {},
   "outputs": [],
   "source": [
    "for i in a b c d; do echo $i > ./dummy_files/dummy_file_$i.txt ; done"
   ]
  },
  {
   "cell_type": "code",
   "execution_count": 107,
   "metadata": {},
   "outputs": [
    {
     "name": "stdout",
     "output_type": "stream",
     "text": [
      "total 32\n",
      "-rw-r--r--  1 jlzhou  staff     2B Sep 16 14:03 dummy_file_a.txt\n",
      "-rw-r--r--  1 jlzhou  staff     2B Sep 16 14:03 dummy_file_b.txt\n",
      "-rw-r--r--  1 jlzhou  staff     2B Sep 16 14:03 dummy_file_c.txt\n",
      "-rw-r--r--  1 jlzhou  staff     2B Sep 16 14:03 dummy_file_d.txt\n"
     ]
    }
   ],
   "source": [
    "ls -l dummy_files/"
   ]
  },
  {
   "cell_type": "markdown",
   "metadata": {},
   "source": [
    "Now let's loop through all the dummy files and view their contents!"
   ]
  },
  {
   "cell_type": "code",
   "execution_count": 108,
   "metadata": {},
   "outputs": [
    {
     "name": "stdout",
     "output_type": "stream",
     "text": [
      "contents of ./dummy_files/dummy_file_a.txt\n",
      "a\n",
      "contents of ./dummy_files/dummy_file_b.txt\n",
      "b\n",
      "contents of ./dummy_files/dummy_file_c.txt\n",
      "c\n",
      "contents of ./dummy_files/dummy_file_d.txt\n",
      "d\n"
     ]
    }
   ],
   "source": [
    "FILES=./dummy_files/*\n",
    "\n",
    "for f in $FILES; do echo \"contents of $f\" && cat $f ; done"
   ]
  },
  {
   "cell_type": "code",
   "execution_count": null,
   "metadata": {},
   "outputs": [],
   "source": []
  },
  {
   "cell_type": "code",
   "execution_count": null,
   "metadata": {},
   "outputs": [],
   "source": []
  }
 ],
 "metadata": {
  "colab": {
   "default_view": {},
   "name": "Bootcamp-bash-tutorial.ipynb",
   "provenance": [],
   "version": "0.3.2",
   "views": {}
  },
  "kernelspec": {
   "display_name": "Bash",
   "language": "bash",
   "name": "bash"
  },
  "language_info": {
   "codemirror_mode": "shell",
   "file_extension": ".sh",
   "mimetype": "text/x-sh",
   "name": "bash"
  }
 },
 "nbformat": 4,
 "nbformat_minor": 1
}

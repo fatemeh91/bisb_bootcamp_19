{
 "cells": [
  {
   "cell_type": "markdown",
   "metadata": {
    "colab_type": "text",
    "id": "l1NWd9fD84UR"
   },
   "source": [
    "# The most basic Commands"
   ]
  },
  {
   "cell_type": "markdown",
   "metadata": {
    "colab_type": "text",
    "id": "hjdZD3C184UU"
   },
   "source": [
    "## Print the working directory"
   ]
  },
  {
   "cell_type": "code",
   "execution_count": null,
   "metadata": {
    "colab": {
     "autoexec": {
      "startup": false,
      "wait_interval": 0
     }
    },
    "colab_type": "code",
    "id": "M4cOl-QW84UW"
   },
   "outputs": [],
   "source": [
    "pwd"
   ]
  },
  {
   "cell_type": "markdown",
   "metadata": {
    "colab_type": "text",
    "id": "M4zUZBpy84UZ"
   },
   "source": [
    "## List the files in the working directory"
   ]
  },
  {
   "cell_type": "code",
   "execution_count": null,
   "metadata": {
    "colab": {
     "autoexec": {
      "startup": false,
      "wait_interval": 0
     }
    },
    "colab_type": "code",
    "id": "bVcqO0vU84UZ"
   },
   "outputs": [],
   "source": [
    "ls"
   ]
  },
  {
   "cell_type": "markdown",
   "metadata": {
    "colab_type": "text",
    "id": "AAChAGsG84Ue"
   },
   "source": [
    "### Thats not that many files!  Let's make a new one"
   ]
  },
  {
   "cell_type": "markdown",
   "metadata": {
    "colab_type": "text",
    "id": "V3BSDqbx84Uf"
   },
   "source": [
    "## Print a message"
   ]
  },
  {
   "cell_type": "code",
   "execution_count": null,
   "metadata": {
    "colab": {
     "autoexec": {
      "startup": false,
      "wait_interval": 0
     }
    },
    "colab_type": "code",
    "id": "7Q3LVElX84Ug"
   },
   "outputs": [],
   "source": [
    "echo \"Some Message\""
   ]
  },
  {
   "cell_type": "markdown",
   "metadata": {
    "colab_type": "text",
    "id": "RNAUWTX884Ui"
   },
   "source": [
    "## Write output to a file - this is called \"piping\""
   ]
  },
  {
   "cell_type": "code",
   "execution_count": null,
   "metadata": {
    "colab": {
     "autoexec": {
      "startup": false,
      "wait_interval": 0
     }
    },
    "colab_type": "code",
    "id": "Xg8kRZaT84Uj"
   },
   "outputs": [],
   "source": [
    "echo \"Some Message\" > myNewFile.txt"
   ]
  },
  {
   "cell_type": "markdown",
   "metadata": {
    "colab_type": "text",
    "id": "2kBTRZRY84Ul"
   },
   "source": [
    "### Lets see those files again.  But lets also look at some details about the files this time:"
   ]
  },
  {
   "cell_type": "code",
   "execution_count": null,
   "metadata": {
    "colab": {
     "autoexec": {
      "startup": false,
      "wait_interval": 0
     }
    },
    "colab_type": "code",
    "id": "ZUrpyD3o84Um"
   },
   "outputs": [],
   "source": [
    "ls -l"
   ]
  },
  {
   "cell_type": "markdown",
   "metadata": {
    "colab_type": "text",
    "id": "aS5x4zb484Uo"
   },
   "source": [
    "## Make a new directory"
   ]
  },
  {
   "cell_type": "code",
   "execution_count": null,
   "metadata": {
    "colab": {
     "autoexec": {
      "startup": false,
      "wait_interval": 0
     }
    },
    "colab_type": "code",
    "id": "xeT0E8YC84Up"
   },
   "outputs": [],
   "source": [
    "mkdir myDirectory"
   ]
  },
  {
   "cell_type": "code",
   "execution_count": null,
   "metadata": {
    "colab": {
     "autoexec": {
      "startup": false,
      "wait_interval": 0
     }
    },
    "colab_type": "code",
    "id": "RFSCQq6T84Ur"
   },
   "outputs": [],
   "source": [
    "ls -l"
   ]
  },
  {
   "cell_type": "markdown",
   "metadata": {
    "colab_type": "text",
    "id": "5Q-Q1jKB84Uv"
   },
   "source": [
    "## Change the current directory"
   ]
  },
  {
   "cell_type": "code",
   "execution_count": null,
   "metadata": {
    "colab": {
     "autoexec": {
      "startup": false,
      "wait_interval": 0
     }
    },
    "colab_type": "code",
    "id": "O0aX7dII84Uw"
   },
   "outputs": [],
   "source": [
    "cd myDirectory"
   ]
  },
  {
   "cell_type": "code",
   "execution_count": null,
   "metadata": {
    "colab": {
     "autoexec": {
      "startup": false,
      "wait_interval": 0
     }
    },
    "colab_type": "code",
    "id": "90r2xSBS84Uy"
   },
   "outputs": [],
   "source": [
    "ls -l"
   ]
  },
  {
   "cell_type": "markdown",
   "metadata": {
    "colab_type": "text",
    "id": "oiyAQMSz84U1"
   },
   "source": [
    "### is this really empty? Lets view hidden files too!"
   ]
  },
  {
   "cell_type": "code",
   "execution_count": null,
   "metadata": {
    "colab": {
     "autoexec": {
      "startup": false,
      "wait_interval": 0
     }
    },
    "colab_type": "code",
    "id": "kt9RvvGH84U1"
   },
   "outputs": [],
   "source": [
    "ls -la"
   ]
  },
  {
   "cell_type": "markdown",
   "metadata": {
    "colab_type": "text",
    "id": "K9GMRj0z84U4"
   },
   "source": [
    "### Thats so cool!\n",
    "Yes, it is.  Bash has built in links to folders.  `./` refers to the current directory. `../` refers to the parent directory."
   ]
  },
  {
   "cell_type": "markdown",
   "metadata": {
    "colab_type": "text",
    "id": "dK5TCmNJ84U4"
   },
   "source": [
    "### So lets check those out!"
   ]
  },
  {
   "cell_type": "code",
   "execution_count": null,
   "metadata": {
    "colab": {
     "autoexec": {
      "startup": false,
      "wait_interval": 0
     }
    },
    "colab_type": "code",
    "id": "q5ZCclf784U5"
   },
   "outputs": [],
   "source": [
    "ls -la ."
   ]
  },
  {
   "cell_type": "code",
   "execution_count": null,
   "metadata": {
    "colab": {
     "autoexec": {
      "startup": false,
      "wait_interval": 0
     }
    },
    "colab_type": "code",
    "id": "nmxwxUXh84U8"
   },
   "outputs": [],
   "source": [
    "ls -la .."
   ]
  },
  {
   "cell_type": "markdown",
   "metadata": {
    "colab_type": "text",
    "id": "7u-kE2sP84U_"
   },
   "source": [
    "## Bash also has `~/` which is your home directory"
   ]
  },
  {
   "cell_type": "code",
   "execution_count": null,
   "metadata": {
    "colab": {
     "autoexec": {
      "startup": false,
      "wait_interval": 0
     }
    },
    "colab_type": "code",
    "id": "44WiU-Pt84VB"
   },
   "outputs": [],
   "source": [
    "ls ~/"
   ]
  },
  {
   "cell_type": "markdown",
   "metadata": {
    "colab_type": "text",
    "id": "5ssxb2yT84VE"
   },
   "source": [
    "## Let's move `myNewFile.txt`, which you created earlier, to the current directory:"
   ]
  },
  {
   "cell_type": "code",
   "execution_count": null,
   "metadata": {
    "colab": {
     "autoexec": {
      "startup": false,
      "wait_interval": 0
     }
    },
    "colab_type": "code",
    "id": "k8eO8oSe84VF"
   },
   "outputs": [],
   "source": [
    "mv ../myNewFile.txt ./\n",
    "ls -la"
   ]
  },
  {
   "cell_type": "markdown",
   "metadata": {
    "colab_type": "text",
    "id": "JqihZcIh84VI"
   },
   "source": [
    "## Copying files:"
   ]
  },
  {
   "cell_type": "code",
   "execution_count": null,
   "metadata": {
    "colab": {
     "autoexec": {
      "startup": false,
      "wait_interval": 0
     }
    },
    "colab_type": "code",
    "id": "gq16-x7u84VJ"
   },
   "outputs": [],
   "source": [
    "cp myNewFile.txt ../"
   ]
  },
  {
   "cell_type": "markdown",
   "metadata": {},
   "source": [
    "What did you just move, and where?"
   ]
  },
  {
   "cell_type": "markdown",
   "metadata": {
    "colab_type": "text",
    "id": "s7XYh-e484VM"
   },
   "source": [
    "## Deleting a file"
   ]
  },
  {
   "cell_type": "code",
   "execution_count": null,
   "metadata": {
    "colab": {
     "autoexec": {
      "startup": false,
      "wait_interval": 0
     }
    },
    "colab_type": "code",
    "id": "cIC3lvdb84VM"
   },
   "outputs": [],
   "source": [
    "ls ../"
   ]
  },
  {
   "cell_type": "code",
   "execution_count": null,
   "metadata": {
    "colab": {
     "autoexec": {
      "startup": false,
      "wait_interval": 0
     }
    },
    "colab_type": "code",
    "id": "-BZj9Bsu84VO"
   },
   "outputs": [],
   "source": [
    "rm ../myNewFile.txt"
   ]
  },
  {
   "cell_type": "code",
   "execution_count": null,
   "metadata": {
    "colab": {
     "autoexec": {
      "startup": false,
      "wait_interval": 0
     }
    },
    "colab_type": "code",
    "id": "NPLDNFLl84VS"
   },
   "outputs": [],
   "source": [
    "ls ../"
   ]
  },
  {
   "cell_type": "markdown",
   "metadata": {
    "colab_type": "text",
    "id": "9gvX8rHN84VT"
   },
   "source": [
    "## Viewing a file"
   ]
  },
  {
   "cell_type": "code",
   "execution_count": null,
   "metadata": {
    "colab": {
     "autoexec": {
      "startup": false,
      "wait_interval": 0
     }
    },
    "colab_type": "code",
    "id": "c2ct-iwJ84VV"
   },
   "outputs": [],
   "source": [
    "cat myNewFile.txt"
   ]
  },
  {
   "cell_type": "markdown",
   "metadata": {
    "colab_type": "text",
    "id": "c_zKBjSP84VY"
   },
   "source": [
    "### Lets make a longer file for this example"
   ]
  },
  {
   "cell_type": "code",
   "execution_count": null,
   "metadata": {
    "colab": {
     "autoexec": {
      "startup": false,
      "wait_interval": 0
     }
    },
    "colab_type": "code",
    "id": "cH560OdN84VZ"
   },
   "outputs": [],
   "source": [
    "printf \"a\\nb\\nc\\nd\\ne\\nf\\ng\\n\" > exampleView.txt"
   ]
  },
  {
   "cell_type": "code",
   "execution_count": null,
   "metadata": {},
   "outputs": [],
   "source": [
    "cat exampleView.txt"
   ]
  },
  {
   "cell_type": "code",
   "execution_count": null,
   "metadata": {
    "colab": {
     "autoexec": {
      "startup": false,
      "wait_interval": 0
     }
    },
    "colab_type": "code",
    "id": "TwM6I0ma84Va"
   },
   "outputs": [],
   "source": [
    "head -n 5 exampleView.txt"
   ]
  },
  {
   "cell_type": "code",
   "execution_count": null,
   "metadata": {
    "colab": {
     "autoexec": {
      "startup": false,
      "wait_interval": 0
     }
    },
    "colab_type": "code",
    "id": "AWLMQTH084Vd"
   },
   "outputs": [],
   "source": [
    "tail -n 5 exampleView.txt"
   ]
  },
  {
   "cell_type": "markdown",
   "metadata": {},
   "source": [
    "### You can also use the `less` and `more` commands to preview a file interactively. This won't work in the notebook, but try it in the shell sometime! "
   ]
  },
  {
   "cell_type": "markdown",
   "metadata": {
    "colab_type": "text",
    "id": "Fb1FoSv184Vf"
   },
   "source": [
    "## Counting lines in a file"
   ]
  },
  {
   "cell_type": "code",
   "execution_count": null,
   "metadata": {
    "colab": {
     "autoexec": {
      "startup": false,
      "wait_interval": 0
     }
    },
    "colab_type": "code",
    "id": "M9-56dFp84Vg"
   },
   "outputs": [],
   "source": [
    "wc -l exampleView.txt"
   ]
  },
  {
   "cell_type": "markdown",
   "metadata": {
    "colab_type": "text",
    "id": "7zRnIX-M84Vj"
   },
   "source": [
    "#  More basic commands"
   ]
  },
  {
   "cell_type": "markdown",
   "metadata": {
    "colab_type": "text",
    "id": "Yhqi7bDb84Vj"
   },
   "source": [
    "## Creating a link"
   ]
  },
  {
   "cell_type": "markdown",
   "metadata": {
    "colab_type": "text",
    "id": "o2Rznvsa84Vl"
   },
   "source": [
    "There are two kinds of links: hard links, and soft links.  A hard link is a pointer to a file, a softlink is a pointer to a file name.\n",
    "\n",
    "\n",
    "Think of a softlink like a shortcut, and a hard link like a semi-copy of a file.\n",
    "\n",
    "To create a link, use `ln`. The default is a hard link; to create a soft link, use the `-s` flag."
   ]
  },
  {
   "cell_type": "code",
   "execution_count": null,
   "metadata": {
    "colab": {
     "autoexec": {
      "startup": false,
      "wait_interval": 0
     }
    },
    "colab_type": "code",
    "id": "2iPtaaQc84Vl"
   },
   "outputs": [],
   "source": [
    "echo \"A new file\" > ../originalFile.txt"
   ]
  },
  {
   "cell_type": "code",
   "execution_count": null,
   "metadata": {
    "colab": {
     "autoexec": {
      "startup": false,
      "wait_interval": 0
     }
    },
    "colab_type": "code",
    "id": "c4hfjlm184Vq"
   },
   "outputs": [],
   "source": [
    "ls ../"
   ]
  },
  {
   "cell_type": "code",
   "execution_count": null,
   "metadata": {
    "colab": {
     "autoexec": {
      "startup": false,
      "wait_interval": 0
     }
    },
    "colab_type": "code",
    "id": "cb44wBwH84Vt"
   },
   "outputs": [],
   "source": [
    "ln -s ../originalFile.txt myShortcut.txt"
   ]
  },
  {
   "cell_type": "code",
   "execution_count": null,
   "metadata": {
    "colab": {
     "autoexec": {
      "startup": false,
      "wait_interval": 0
     }
    },
    "colab_type": "code",
    "id": "vw0TCX7d84Vy"
   },
   "outputs": [],
   "source": [
    "ls"
   ]
  },
  {
   "cell_type": "code",
   "execution_count": null,
   "metadata": {
    "colab": {
     "autoexec": {
      "startup": false,
      "wait_interval": 0
     }
    },
    "colab_type": "code",
    "id": "HoIZmMPh84V1"
   },
   "outputs": [],
   "source": [
    "ln ../originalFile.txt myHardlink.txt"
   ]
  },
  {
   "cell_type": "code",
   "execution_count": null,
   "metadata": {
    "colab": {
     "autoexec": {
      "startup": false,
      "wait_interval": 0
     }
    },
    "colab_type": "code",
    "id": "SuYSlRkQ84V4"
   },
   "outputs": [],
   "source": [
    "ls -l"
   ]
  },
  {
   "cell_type": "markdown",
   "metadata": {
    "colab_type": "text",
    "id": "AMiUFeF884V7"
   },
   "source": [
    "### So what happens if we delete the original file?"
   ]
  },
  {
   "cell_type": "code",
   "execution_count": null,
   "metadata": {
    "colab": {
     "autoexec": {
      "startup": false,
      "wait_interval": 0
     }
    },
    "colab_type": "code",
    "id": "GN3hSYz_84V7"
   },
   "outputs": [],
   "source": [
    "rm ../originalFile.txt\n",
    "ls -l"
   ]
  },
  {
   "cell_type": "markdown",
   "metadata": {
    "colab_type": "text",
    "id": "2d2XCYE584V_"
   },
   "source": [
    "### Oh no!  This shortcut is broken!"
   ]
  },
  {
   "cell_type": "code",
   "execution_count": null,
   "metadata": {
    "colab": {
     "autoexec": {
      "startup": false,
      "wait_interval": 0
     }
    },
    "colab_type": "code",
    "id": "Nyaal9Uy84WA"
   },
   "outputs": [],
   "source": [
    "cat myShortcut.txt"
   ]
  },
  {
   "cell_type": "markdown",
   "metadata": {
    "colab_type": "text",
    "id": "kMoJKUNv84WC"
   },
   "source": [
    "### But this hardlink still works, since we pointed to the file, not the file name"
   ]
  },
  {
   "cell_type": "code",
   "execution_count": null,
   "metadata": {
    "colab": {
     "autoexec": {
      "startup": false,
      "wait_interval": 0
     }
    },
    "colab_type": "code",
    "id": "oxXB3KqD84WD"
   },
   "outputs": [],
   "source": [
    "cat myHardlink.txt"
   ]
  },
  {
   "cell_type": "markdown",
   "metadata": {},
   "source": [
    "Alright, let's remove those links now."
   ]
  },
  {
   "cell_type": "code",
   "execution_count": null,
   "metadata": {
    "colab": {
     "autoexec": {
      "startup": false,
      "wait_interval": 0
     }
    },
    "colab_type": "code",
    "id": "amUWMWMI84WF"
   },
   "outputs": [],
   "source": [
    "rm myHardlink.txt\n",
    "rm myShortcut.txt"
   ]
  },
  {
   "cell_type": "markdown",
   "metadata": {
    "colab_type": "text",
    "id": "0Q_Tucwa84WG"
   },
   "source": [
    "## Creating a variable\n",
    "This can be useful for storing strings, such as long filepaths. "
   ]
  },
  {
   "cell_type": "code",
   "execution_count": null,
   "metadata": {
    "colab": {
     "autoexec": {
      "startup": false,
      "wait_interval": 0
     }
    },
    "colab_type": "code",
    "id": "J41ZE10684WG"
   },
   "outputs": [],
   "source": [
    "MY_VAR=\"this is a variable string\""
   ]
  },
  {
   "cell_type": "code",
   "execution_count": null,
   "metadata": {
    "colab": {
     "autoexec": {
      "startup": false,
      "wait_interval": 0
     }
    },
    "colab_type": "code",
    "id": "8AOunsCF84WJ"
   },
   "outputs": [],
   "source": [
    "echo $MY_VAR"
   ]
  },
  {
   "cell_type": "markdown",
   "metadata": {
    "colab_type": "text",
    "id": "IZ8z6xlE84WP"
   },
   "source": [
    "## Creating an alias\n",
    "Aliases are like shortcuts to longer Unix commands. This can be helpful for storing long commands that you use often. \n",
    "\n",
    "Let's create an alias for examining disk usage. \n",
    "\n",
    "The `-h` flag is an option specifying that memory should be displayed in human-readable format (e.g. Byte, Kilobyte, Megabyte, Gigabyte, Terabyte and Petabyte).\n",
    "\n",
    "We will pipe the output of this command to a `sort` command. The `-rn` flag sorts by numerical value in reverse order."
   ]
  },
  {
   "cell_type": "code",
   "execution_count": null,
   "metadata": {
    "colab": {
     "autoexec": {
      "startup": false,
      "wait_interval": 0
     }
    },
    "colab_type": "code",
    "id": "-O9y9NYF84WP"
   },
   "outputs": [],
   "source": [
    "alias diskUse=\"du -h * | sort -rn\""
   ]
  },
  {
   "cell_type": "code",
   "execution_count": null,
   "metadata": {
    "colab": {
     "autoexec": {
      "startup": false,
      "wait_interval": 0
     }
    },
    "colab_type": "code",
    "id": "sbkj4j1U84WV"
   },
   "outputs": [],
   "source": [
    "cd ../\n",
    "diskUse\n",
    "cd myDirectory"
   ]
  },
  {
   "cell_type": "markdown",
   "metadata": {
    "colab_type": "text",
    "id": "WnGTnHOW84Wb"
   },
   "source": [
    "## Creating a function\n",
    "\n",
    "What are `$1` and `$2`?  These are the arguments directly following what you type.  Think of these as quick, poor man's versions of command line arguments"
   ]
  },
  {
   "cell_type": "code",
   "execution_count": null,
   "metadata": {
    "colab": {
     "autoexec": {
      "startup": false,
      "wait_interval": 0
     }
    },
    "colab_type": "code",
    "id": "k1OfG92z84Wc"
   },
   "outputs": [],
   "source": [
    "function lnhs { ln $1 $2; ln -s $1 ${2}.path; }"
   ]
  },
  {
   "cell_type": "markdown",
   "metadata": {},
   "source": [
    "What does this function do?"
   ]
  },
  {
   "cell_type": "code",
   "execution_count": null,
   "metadata": {
    "colab": {
     "autoexec": {
      "startup": false,
      "wait_interval": 0
     }
    },
    "colab_type": "code",
    "id": "qSEE9SyC84We"
   },
   "outputs": [],
   "source": [
    "echo \"blah\" > ../blah.txt\n",
    "lnhs ../blah.txt myLinks.txt\n",
    "ls -l"
   ]
  },
  {
   "cell_type": "markdown",
   "metadata": {
    "colab_type": "text",
    "id": "rRV8zn9W84Wg"
   },
   "source": [
    "## Check if something is in your path and where it is"
   ]
  },
  {
   "cell_type": "markdown",
   "metadata": {
    "colab_type": "text",
    "id": "0g6HVF8j84Wh"
   },
   "source": [
    "Yup!"
   ]
  },
  {
   "cell_type": "code",
   "execution_count": null,
   "metadata": {
    "colab": {
     "autoexec": {
      "startup": false,
      "wait_interval": 0
     }
    },
    "colab_type": "code",
    "id": "hHU-ZqQU84Wh"
   },
   "outputs": [],
   "source": [
    "which python"
   ]
  },
  {
   "cell_type": "markdown",
   "metadata": {
    "colab_type": "text",
    "id": "aaDiJRSE84Wk"
   },
   "source": [
    "Nope!"
   ]
  },
  {
   "cell_type": "code",
   "execution_count": null,
   "metadata": {
    "colab": {
     "autoexec": {
      "startup": false,
      "wait_interval": 0
     }
    },
    "colab_type": "code",
    "id": "cpvRE6xQ84Wl"
   },
   "outputs": [],
   "source": [
    "which matlab"
   ]
  },
  {
   "cell_type": "markdown",
   "metadata": {
    "colab_type": "text",
    "id": "aaESN7Eo84Wo"
   },
   "source": [
    "## Download a file\n",
    "\n",
    "`wget` is a very useful command for downloading large files the web. Let's practice downloading results from a study by [Gasperini et al. 2019](https://www.ncbi.nlm.nih.gov/geo/query/acc.cgi?acc=GSE120861).\n",
    "\n",
    "Under Supplementary Files, right click on the (ftp) link for GSE120861_all_deg_results.at_scale.txt.gz, and click on Copy Link Address. Paste the link in the command below."
   ]
  },
  {
   "cell_type": "code",
   "execution_count": null,
   "metadata": {
    "colab": {
     "autoexec": {
      "startup": false,
      "wait_interval": 0
     }
    },
    "colab_type": "code",
    "id": "uOfAP8Ww84Wp"
   },
   "outputs": [],
   "source": [
    "wget ftp://ftp.ncbi.nlm.nih.gov/geo/series/GSE120nnn/GSE120861/suppl/GSE120861_all_deg_results.at_scale.txt.gz"
   ]
  },
  {
   "cell_type": "code",
   "execution_count": null,
   "metadata": {},
   "outputs": [],
   "source": [
    "ls -l"
   ]
  },
  {
   "cell_type": "markdown",
   "metadata": {},
   "source": [
    "#### Unzip the file."
   ]
  },
  {
   "cell_type": "code",
   "execution_count": null,
   "metadata": {},
   "outputs": [],
   "source": [
    "gunzip GSE120861_all_deg_results.at_scale.txt.gz"
   ]
  },
  {
   "cell_type": "markdown",
   "metadata": {},
   "source": [
    "#### Now let's preview the file!"
   ]
  },
  {
   "cell_type": "code",
   "execution_count": null,
   "metadata": {},
   "outputs": [],
   "source": [
    "head GSE120861_all_deg_results.at_scale.txt"
   ]
  },
  {
   "cell_type": "markdown",
   "metadata": {
    "colab_type": "text",
    "id": "GFxq-bms84Wt"
   },
   "source": [
    "## Zip a file\n",
    "\n",
    "Let's zip that file back up."
   ]
  },
  {
   "cell_type": "code",
   "execution_count": null,
   "metadata": {
    "colab": {
     "autoexec": {
      "startup": false,
      "wait_interval": 0
     }
    },
    "colab_type": "code",
    "id": "JCcXdLC384Wt"
   },
   "outputs": [],
   "source": [
    "gzip GSE120861_all_deg_results.at_scale.txt"
   ]
  },
  {
   "cell_type": "code",
   "execution_count": null,
   "metadata": {
    "colab": {
     "autoexec": {
      "startup": false,
      "wait_interval": 0
     }
    },
    "colab_type": "code",
    "id": "lNZNKgD584Wv"
   },
   "outputs": [],
   "source": [
    "ls -l"
   ]
  },
  {
   "cell_type": "markdown",
   "metadata": {
    "colab_type": "text",
    "id": "YbUA6PbR84W2"
   },
   "source": [
    "## Edit permissions"
   ]
  },
  {
   "cell_type": "code",
   "execution_count": null,
   "metadata": {
    "colab": {
     "autoexec": {
      "startup": false,
      "wait_interval": 0
     }
    },
    "colab_type": "code",
    "id": "naesIO-184W3"
   },
   "outputs": [],
   "source": [
    "chmod 777 myLinks.txt\n",
    "ls -l"
   ]
  },
  {
   "cell_type": "markdown",
   "metadata": {
    "colab_type": "text",
    "id": "MBu47UuJ84W4"
   },
   "source": [
    "### Woah check out all those letters!  What do they mean?"
   ]
  },
  {
   "cell_type": "markdown",
   "metadata": {
    "colab_type": "text",
    "id": "8Mmv87Gd84W5"
   },
   "source": [
    "4: Read\n",
    "\n",
    "2: Write\n",
    "\n",
    "1: Execute\n",
    "\n",
    "The three numbers XXX following `chmod` are, from left to right: owner (u), group (g), everyone (o).\n",
    "\n",
    "<img src=\"./chmod_permissions.png\">\n",
    "\n",
    "So `chmod 777` sets all permission to everyone as read (r), write (w), execute (x).\n",
    "\n",
    "How would we set `myLinks.txt` permissions to:\n",
    "\n",
    "Group:  read, execute\n",
    "\n",
    "Everyone: read\n",
    "\n",
    "Owner: read, write, execute?"
   ]
  },
  {
   "cell_type": "code",
   "execution_count": null,
   "metadata": {
    "colab": {
     "autoexec": {
      "startup": false,
      "wait_interval": 0
     }
    },
    "colab_type": "code",
    "id": "1j9VLW5X84W5"
   },
   "outputs": [],
   "source": [
    "### Try it here\n",
    "\n",
    "\n",
    "\n",
    "\n"
   ]
  },
  {
   "cell_type": "markdown",
   "metadata": {
    "colab_type": "text",
    "id": "nZhnCrif84W7"
   },
   "source": [
    "# Advanced Commands"
   ]
  },
  {
   "cell_type": "markdown",
   "metadata": {
    "colab_type": "text",
    "id": "g_BC7yPA84W7"
   },
   "source": [
    "## More advanced piping\n",
    "\n",
    "So we saw how `>` can pipe command line output into a file.  How do we pipe output from one command to another?  \n",
    "\n",
    "We use ` | `.  We can do this as many times as we want to chain commands. Lets check it out."
   ]
  },
  {
   "cell_type": "code",
   "execution_count": null,
   "metadata": {
    "colab": {
     "autoexec": {
      "startup": false,
      "wait_interval": 0
     }
    },
    "colab_type": "code",
    "id": "AXnnTK2B84W8"
   },
   "outputs": [],
   "source": [
    "ls -l"
   ]
  },
  {
   "cell_type": "code",
   "execution_count": null,
   "metadata": {
    "colab": {
     "autoexec": {
      "startup": false,
      "wait_interval": 0
     }
    },
    "colab_type": "code",
    "id": "TQ9uXn-v84XA"
   },
   "outputs": [],
   "source": [
    "ls | wc -l"
   ]
  },
  {
   "cell_type": "code",
   "execution_count": null,
   "metadata": {
    "colab": {
     "autoexec": {
      "startup": false,
      "wait_interval": 0
     }
    },
    "colab_type": "code",
    "id": "eapTp8Iq84XB"
   },
   "outputs": [],
   "source": [
    "ls | wc -l | wc -l > someOutput.txt\n",
    "cat someOutput.txt"
   ]
  },
  {
   "cell_type": "markdown",
   "metadata": {
    "colab_type": "text",
    "id": "0og70aGA84XD"
   },
   "source": [
    "## `tee`\n",
    "\n",
    "`tee` lets us display output, and also pipe it to a file at the same time.  As `tee` is a command, we pipe to it with ` | `"
   ]
  },
  {
   "cell_type": "code",
   "execution_count": null,
   "metadata": {
    "colab": {
     "autoexec": {
      "startup": false,
      "wait_interval": 0
     }
    },
    "colab_type": "code",
    "id": "3QvBqSkH84XH"
   },
   "outputs": [],
   "source": [
    "ls | tee someOutput.txt"
   ]
  },
  {
   "cell_type": "code",
   "execution_count": null,
   "metadata": {
    "colab": {
     "autoexec": {
      "startup": false,
      "wait_interval": 0
     }
    },
    "colab_type": "code",
    "id": "k3kBgWvS84XI"
   },
   "outputs": [],
   "source": [
    "cat someOutput.txt"
   ]
  },
  {
   "cell_type": "markdown",
   "metadata": {
    "colab_type": "text",
    "id": "guxW2UIJ84XK"
   },
   "source": [
    "#### Before we proceed, we need to get a file that has multiple columns.  Lets download a file via git to mess around with going forward"
   ]
  },
  {
   "cell_type": "code",
   "execution_count": null,
   "metadata": {
    "colab": {
     "autoexec": {
      "startup": false,
      "wait_interval": 0
     }
    },
    "colab_type": "code",
    "id": "hKg2zf8g84XK"
   },
   "outputs": [],
   "source": [
    "git clone https://github.com/zrcjessica/gwas_tutorial.git"
   ]
  },
  {
   "cell_type": "code",
   "execution_count": null,
   "metadata": {
    "colab": {
     "autoexec": {
      "startup": false,
      "wait_interval": 0
     }
    },
    "colab_type": "code",
    "id": "dGS2b9Gl84XM"
   },
   "outputs": [],
   "source": [
    "ls gwas_tutorial/*"
   ]
  },
  {
   "cell_type": "code",
   "execution_count": null,
   "metadata": {
    "colab": {
     "autoexec": {
      "startup": false,
      "wait_interval": 0
     }
    },
    "colab_type": "code",
    "id": "wslcUz6y84XN"
   },
   "outputs": [],
   "source": [
    "mv gwas_tutorial/IBD_GWAS_summary_thinned.txt ./\n",
    "rm -rf gwas_tutorial\n",
    "ls -l"
   ]
  },
  {
   "cell_type": "markdown",
   "metadata": {
    "colab_type": "text",
    "id": "JDFUJT8_84XO"
   },
   "source": [
    "#### Before we proceed, lets check out what is in that file"
   ]
  },
  {
   "cell_type": "code",
   "execution_count": null,
   "metadata": {
    "colab": {
     "autoexec": {
      "startup": false,
      "wait_interval": 0
     }
    },
    "colab_type": "code",
    "id": "zUEC3ybg84XO"
   },
   "outputs": [],
   "source": [
    "head -n 5 IBD_GWAS_summary_thinned.txt"
   ]
  },
  {
   "cell_type": "markdown",
   "metadata": {
    "colab_type": "text",
    "id": "IFUpJKhn84XQ"
   },
   "source": [
    "##  Cut\n",
    "\n",
    "`cut` lets us pull specific columns out of a file.  The normal delimeter is `\\t`, though we can set a different one with `-d` (e.g. for a .csv or a white-space delimited file)"
   ]
  },
  {
   "cell_type": "code",
   "execution_count": null,
   "metadata": {
    "colab": {
     "autoexec": {
      "startup": false,
      "wait_interval": 0
     }
    },
    "colab_type": "code",
    "id": "Vy_oIs6P84XQ"
   },
   "outputs": [],
   "source": [
    "cut -f2 IBD_GWAS_summary_thinned.txt | head"
   ]
  },
  {
   "cell_type": "code",
   "execution_count": null,
   "metadata": {
    "colab": {
     "autoexec": {
      "startup": false,
      "wait_interval": 0
     }
    },
    "colab_type": "code",
    "id": "EoVTOUsk84XR"
   },
   "outputs": [],
   "source": [
    "### Try to print out the third column, store it to a file name \"testingFile.txt\", and display it at the same time\n",
    "\n",
    "\n",
    "\n",
    "\n"
   ]
  },
  {
   "cell_type": "markdown",
   "metadata": {
    "colab_type": "text",
    "id": "ABBEyQo884XV"
   },
   "source": [
    "## Awk\n",
    "\n",
    "`awk` is more advanced language for text processing and data manipulation, and can be used in the command line or in a  script.  You can get pretty advanced with it.\n",
    "\n",
    "Lets just print the first two columns with a tab between them."
   ]
  },
  {
   "cell_type": "code",
   "execution_count": null,
   "metadata": {
    "colab": {
     "autoexec": {
      "startup": false,
      "wait_interval": 0
     }
    },
    "colab_type": "code",
    "id": "Jso3V4zG84XW"
   },
   "outputs": [],
   "source": [
    "awk '{print $1 \"\\t\" $2}' IBD_GWAS_summary_thinned.txt | head "
   ]
  },
  {
   "cell_type": "markdown",
   "metadata": {
    "colab_type": "text",
    "id": "N-4mhwSF84XX"
   },
   "source": [
    "Lets print the first two columns with \"...\" between them by overriding the default field separator. We specify this with `OFS='...'`. `OFS` is one of many special variables that `awk` has. It stands for Output Field Separator Variable. By default, it is a space character. The `-v` flag specifies that we are using a special `awk` variable."
   ]
  },
  {
   "cell_type": "code",
   "execution_count": null,
   "metadata": {
    "colab": {
     "autoexec": {
      "startup": false,
      "wait_interval": 0
     }
    },
    "colab_type": "code",
    "id": "ao94iqAu84XX"
   },
   "outputs": [],
   "source": [
    "awk -v OFS='...' '{print $1,$2}' IBD_GWAS_summary_thinned.txt | head"
   ]
  },
  {
   "cell_type": "markdown",
   "metadata": {},
   "source": [
    "Let's play with another useful special variable, `NR`, or Number of Records Variable. This is better known as line number. Let's do what we did above, but printing only the header and all even numbered lines."
   ]
  },
  {
   "cell_type": "code",
   "execution_count": null,
   "metadata": {},
   "outputs": [],
   "source": [
    "awk -v OFS='...' 'NR==1 || NR %2 == 0 {print $1, $2}' IBD_GWAS_summary_thinned.txt | head"
   ]
  },
  {
   "cell_type": "markdown",
   "metadata": {
    "colab_type": "text",
    "id": "vnHlUhUh84XY"
   },
   "source": [
    "Lets print the first two columns with \"...\" between them, but not for the first column, and then also add the line number starting at the second line. By the way, notice how we broke up the long command with `\\` - this allows you to visualize longer commands better."
   ]
  },
  {
   "cell_type": "code",
   "execution_count": null,
   "metadata": {
    "colab": {
     "autoexec": {
      "startup": false,
      "wait_interval": 0
     }
    },
    "colab_type": "code",
    "id": "w74cBYDx84XZ"
   },
   "outputs": [],
   "source": [
    "awk -v OFS='...' \\\n",
    "'{if (NR==1) print $1 \"\\t\" $2 \"\\t\" \"line\"; else print $1,$2, NR-1}' IBD_GWAS_summary_thinned.txt | head"
   ]
  },
  {
   "cell_type": "code",
   "execution_count": null,
   "metadata": {
    "colab": {
     "autoexec": {
      "startup": false,
      "wait_interval": 0
     }
    },
    "colab_type": "code",
    "id": "X_EnGjjF84Xb"
   },
   "outputs": [],
   "source": [
    "### Try to print the first 5 columns and the line number, with the first 5 columns separated by \"..\" \n",
    "### and the line number separated by two tabs.  Then only show the first 7 lines of the output\n",
    "\n",
    "\n",
    "\n",
    "\n",
    "\n"
   ]
  },
  {
   "cell_type": "markdown",
   "metadata": {
    "colab_type": "text",
    "id": "fy1oxSHW84Xh"
   },
   "source": [
    "## Grep\n",
    "\n",
    "`grep` performs character matching, and then returns all the lines that match that string"
   ]
  },
  {
   "cell_type": "code",
   "execution_count": null,
   "metadata": {
    "colab": {
     "autoexec": {
      "startup": false,
      "wait_interval": 0
     }
    },
    "colab_type": "code",
    "id": "Q9cOgY2584Xi"
   },
   "outputs": [],
   "source": [
    "wc -l IBD_GWAS_summary_thinned.txt"
   ]
  },
  {
   "cell_type": "code",
   "execution_count": null,
   "metadata": {},
   "outputs": [],
   "source": [
    "grep \"chr10\" IBD_GWAS_summary_thinned.txt | head -n 5"
   ]
  },
  {
   "cell_type": "code",
   "execution_count": null,
   "metadata": {
    "colab": {
     "autoexec": {
      "startup": false,
      "wait_interval": 0
     }
    },
    "colab_type": "code",
    "id": "k0RFRuTs84Xk"
   },
   "outputs": [],
   "source": [
    "grep \"chr10\" IBD_GWAS_summary_thinned.txt | wc -l"
   ]
  },
  {
   "cell_type": "code",
   "execution_count": null,
   "metadata": {
    "colab": {
     "autoexec": {
      "startup": false,
      "wait_interval": 0
     }
    },
    "colab_type": "code",
    "id": "sNngTSkh84Xm"
   },
   "outputs": [],
   "source": [
    "grep \"rs\" IBD_GWAS_summary_thinned.txt | wc -l"
   ]
  },
  {
   "cell_type": "markdown",
   "metadata": {
    "colab_type": "text",
    "id": "mHKWda1V84Xn"
   },
   "source": [
    "## Sed\n",
    "Another way to edit files.  Sed has many commands, so its less easy to teach at once.  Lets look at one example where we add a prefix string to every line in the file."
   ]
  },
  {
   "cell_type": "code",
   "execution_count": null,
   "metadata": {
    "colab": {
     "autoexec": {
      "startup": false,
      "wait_interval": 0
     }
    },
    "colab_type": "code",
    "id": "p0vZyux084Xo"
   },
   "outputs": [],
   "source": [
    "sed -e 's/^/---PFX/' IBD_GWAS_summary_thinned.txt | head"
   ]
  },
  {
   "cell_type": "markdown",
   "metadata": {
    "colab_type": "text",
    "id": "yQpveCDt84Xp"
   },
   "source": [
    "## Paste\n",
    "`paste` lets us join two files together horizontally instead of vertically (like `cbind` in R). Let's do this with the beginning of the file, looking at just the first five columns."
   ]
  },
  {
   "cell_type": "code",
   "execution_count": null,
   "metadata": {
    "colab": {
     "autoexec": {
      "startup": false,
      "wait_interval": 0
     }
    },
    "colab_type": "code",
    "id": "gxNBF8u684Xp"
   },
   "outputs": [],
   "source": [
    "head IBD_GWAS_summary_thinned.txt | cut -f1-5 > tmp\n",
    "paste tmp tmp"
   ]
  },
  {
   "cell_type": "markdown",
   "metadata": {
    "colab_type": "text",
    "id": "anBL8GSq84Xq"
   },
   "source": [
    "What if the files arent the same lengths?  Doesnt matter, it just stops pasting from the shorter file"
   ]
  },
  {
   "cell_type": "code",
   "execution_count": null,
   "metadata": {
    "colab": {
     "autoexec": {
      "startup": false,
      "wait_interval": 0
     }
    },
    "colab_type": "code",
    "id": "N9xHUjbC84Xr"
   },
   "outputs": [],
   "source": [
    "paste tmp  myLinks.txt | head"
   ]
  },
  {
   "cell_type": "code",
   "execution_count": null,
   "metadata": {},
   "outputs": [],
   "source": [
    "rm tmp"
   ]
  },
  {
   "cell_type": "markdown",
   "metadata": {
    "colab_type": "text",
    "id": "d1BPUYGo84Xu"
   },
   "source": [
    "## Sort a file\n",
    "`sort` is a standard command line program that does exactly what its name implies.\n",
    "\n",
    "Let's see what happens when we try sorting our file normally on the first five columns, without any options."
   ]
  },
  {
   "cell_type": "code",
   "execution_count": null,
   "metadata": {},
   "outputs": [],
   "source": [
    "cut -f1-5 IBD_GWAS_summary_thinned.txt | sort - | head"
   ]
  },
  {
   "cell_type": "markdown",
   "metadata": {},
   "source": [
    "By the way, you can sort in reverse as well by adding the `-r` option:"
   ]
  },
  {
   "cell_type": "code",
   "execution_count": null,
   "metadata": {},
   "outputs": [],
   "source": [
    "cut -f1-5 IBD_GWAS_summary_thinned.txt | sort -r - | head"
   ]
  },
  {
   "cell_type": "markdown",
   "metadata": {},
   "source": [
    "Why does chr9 come out at the top? Aren't there 22 chromosomes? It's because it's being treated as a string.\n",
    "\n",
    "You can specify the field to sort on using `-k` followed by the number of the column. You can also sort by numerical value using the flag `-n`."
   ]
  },
  {
   "cell_type": "markdown",
   "metadata": {},
   "source": [
    "Let's sort on the P-values of the GWAS SNPs (column 11) and show select columns for the top hits. "
   ]
  },
  {
   "cell_type": "code",
   "execution_count": null,
   "metadata": {},
   "outputs": [],
   "source": [
    "sort -k 11 -n IBD_GWAS_summary_thinned.txt| head | cut -f1-5,11"
   ]
  },
  {
   "cell_type": "markdown",
   "metadata": {},
   "source": [
    "Looks like there's a lot of hits on chromosome 10. Must be relevant for IBD! Also looks like there's a hit in the MHC region on chromosome 6 - no surprise, lots of research has corroborated the role of MHC in complex diseases. For extra practice, let's sort on chromosome, and then the p-values of the SNPs on that chromosome."
   ]
  },
  {
   "cell_type": "markdown",
   "metadata": {},
   "source": [
    "##### Sorting on multiple fields\n",
    "Let's sort the table on chromosome, and then the p-values of the SNPs on that chromosome. This requires a `-k m,n` format, where `-m` and `-n` refer to the start and end columns of keys that potentially span multiple columns. To sort on chromosome first, we use `-k 1,1n` to indicate that the key to be sorted by numerical value starts and ends in column 1. If we use only `-k 1n`, then the entire row starting from column 1 would be used as the key for sorting. To sort on the p-value second, we use `-k 11,11n`. "
   ]
  },
  {
   "cell_type": "code",
   "execution_count": null,
   "metadata": {},
   "outputs": [],
   "source": [
    "sort -k 1,1n -k 11,11n IBD_GWAS_summary_thinned.txt | head | cut -f1-5,11"
   ]
  },
  {
   "cell_type": "markdown",
   "metadata": {
    "colab_type": "text",
    "id": "auO2tNSh84X8"
   },
   "source": [
    "## For loops"
   ]
  },
  {
   "cell_type": "markdown",
   "metadata": {
    "colab_type": "text",
    "id": "peYh7z0x84X8"
   },
   "source": [
    "Loop over values"
   ]
  },
  {
   "cell_type": "code",
   "execution_count": null,
   "metadata": {
    "colab": {
     "autoexec": {
      "startup": false,
      "wait_interval": 0
     }
    },
    "colab_type": "code",
    "id": "9XBMA0Jn84X9"
   },
   "outputs": [],
   "source": [
    "for i in a b c d; do echo $i; done"
   ]
  },
  {
   "cell_type": "markdown",
   "metadata": {
    "colab_type": "text",
    "id": "SRt1cD-e84X_"
   },
   "source": [
    "Loop over a sequence"
   ]
  },
  {
   "cell_type": "code",
   "execution_count": null,
   "metadata": {
    "colab": {
     "autoexec": {
      "startup": false,
      "wait_interval": 0
     }
    },
    "colab_type": "code",
    "id": "8opdQA0y84YA"
   },
   "outputs": [],
   "source": [
    "for i in `seq 1 10`; do echo $i; done"
   ]
  },
  {
   "cell_type": "markdown",
   "metadata": {},
   "source": [
    "Let's make a directory and write a series of dummy files to that directory."
   ]
  },
  {
   "cell_type": "code",
   "execution_count": null,
   "metadata": {},
   "outputs": [],
   "source": [
    "mkdir ./dummy_files"
   ]
  },
  {
   "cell_type": "code",
   "execution_count": null,
   "metadata": {},
   "outputs": [],
   "source": [
    "ls -l"
   ]
  },
  {
   "cell_type": "code",
   "execution_count": null,
   "metadata": {},
   "outputs": [],
   "source": [
    "for i in a b c d; do echo $i > ./dummy_files/dummy_file_$i.txt ; done"
   ]
  },
  {
   "cell_type": "code",
   "execution_count": null,
   "metadata": {},
   "outputs": [],
   "source": [
    "ls -l dummy_files/"
   ]
  },
  {
   "cell_type": "markdown",
   "metadata": {},
   "source": [
    "Now let's loop through all the dummy files and view their contents!"
   ]
  },
  {
   "cell_type": "code",
   "execution_count": null,
   "metadata": {},
   "outputs": [],
   "source": [
    "FILES=./dummy_files/*\n",
    "\n",
    "for f in $FILES; do echo \"contents of $f\" && cat $f ; done"
   ]
  },
  {
   "cell_type": "code",
   "execution_count": null,
   "metadata": {},
   "outputs": [],
   "source": []
  }
 ],
 "metadata": {
  "colab": {
   "default_view": {},
   "name": "Bootcamp-bash-tutorial.ipynb",
   "provenance": [],
   "version": "0.3.2",
   "views": {}
  },
  "kernelspec": {
   "display_name": "Bash",
   "language": "bash",
   "name": "bash"
  },
  "language_info": {
   "codemirror_mode": "shell",
   "file_extension": ".sh",
   "mimetype": "text/x-sh",
   "name": "bash"
  }
 },
 "nbformat": 4,
 "nbformat_minor": 1
}
